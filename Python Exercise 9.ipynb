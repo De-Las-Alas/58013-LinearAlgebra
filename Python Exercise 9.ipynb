{
  "cells": [
    {
      "cell_type": "markdown",
      "metadata": {
        "id": "view-in-github",
        "colab_type": "text"
      },
      "source": [
        "<a href=\"https://colab.research.google.com/github/De-Las-Alas/58013-LinearAlgebra/blob/main/Python%20Exercise%209.ipynb\" target=\"_parent\"><img src=\"https://colab.research.google.com/assets/colab-badge.svg\" alt=\"Open In Colab\"/></a>"
      ]
    },
    {
      "cell_type": "markdown",
      "source": [],
      "metadata": {
        "id": "42P29QaJ4dfw"
      }
    },
    {
      "cell_type": "code",
      "source": [
        "import numpy as np\n",
        "import matplotlib.pyplot as plt\n",
        "%matplotlib inline\n",
        "\n",
        "A = np.array([\n",
        "    [1,4],\n",
        "    [0,3]\n",
        "])\n",
        "np.linalg.det(A)"
      ],
      "metadata": {
        "id": "-VotfChi4T28",
        "outputId": "4fe7bf6e-99a4-423f-8857-f91670295ac3",
        "colab": {
          "base_uri": "https://localhost:8080/"
        }
      },
      "execution_count": 1,
      "outputs": [
        {
          "output_type": "execute_result",
          "data": {
            "text/plain": [
              "3.0000000000000004"
            ]
          },
          "metadata": {},
          "execution_count": 1
        }
      ]
    },
    {
      "cell_type": "code",
      "source": [
        "## Now other mathematics classes would require you to solve this by hand,\n",
        "## and that is great for practicing your memorization and coordination skills\n",
        "## but in this class we aim for simplicity and speed so we'll use programming\n",
        "## but it's completely fine if you want to try to solve this one by hand.\n",
        "\n",
        "B = np.array([\n",
        "    [1,3,5,6],\n",
        "    [0,3,1,3],\n",
        "    [3,1,8,2],\n",
        "    [5,2,6,8]\n",
        "])\n",
        "np.linalg.det(B)"
      ],
      "metadata": {
        "id": "XS03U95Z5U-u",
        "outputId": "391f092e-61d0-43cb-f777-6a9213131954",
        "colab": {
          "base_uri": "https://localhost:8080/"
        }
      },
      "execution_count": 3,
      "outputs": [
        {
          "output_type": "execute_result",
          "data": {
            "text/plain": [
              "-235.0000000000002"
            ]
          },
          "metadata": {},
          "execution_count": 3
        }
      ]
    },
    {
      "cell_type": "markdown",
      "source": [
        "#Coding Activity 9\n",
        "Prove and implement the remaining 6 matrix multiplication properties. You may create your ownmatrices in which their shapes should not be lower than (3,3). In your methodology, createindividual flowcharts for each property and discuss the property you would then present yourproofs or validity of your implementation in the results section by comparing your result to present functions from NumPy."
      ],
      "metadata": {
        "id": "s8aaZMGV8Fzf"
      }
    },
    {
      "cell_type": "code",
      "source": [
        "import numpy as np\n",
        "\n",
        "C = np.array([\n",
        "    [1,2,3],\n",
        "    [4,5,6],\n",
        "    [7,8,9]\n",
        "])\n",
        "D = np.array([\n",
        "    [9,8,7],\n",
        "    [6,5,4],\n",
        "    [3,2,1]\n",
        "])\n",
        "E = np.array([\n",
        "    [7,4,1],\n",
        "    [8,5,2],\n",
        "    [9,6,3]\n",
        "])\n",
        "\n",
        "#calculations\n",
        "#Associative property\n",
        "F = C*(D*E)\n",
        "G = (C*D)*E\n",
        "#Closure property\n",
        "H = np.dot(C,D)\n",
        "#Distributive property\n",
        "I = C*(D+E)\n",
        "J = (C*D)+(C*E)\n",
        "#Identity property\n",
        "K = np.eye(3,3)\n",
        "L = np.dot(K,C)\n",
        "#Scalar property\n",
        "M = C*D\n",
        "#Zero property\n",
        "N = np.zeros((3,3))\n",
        "O = np.dot(C,N)\n",
        "\n",
        "#output\n",
        "print(f'Associative Property:\\n C*(D*E) =\\n{F}\\n Is the same as\\n (C*D)*E =\\n{G}')\n",
        "print(f'\\nClosre Property:\\n np.dot(C,D) =\\n{H}')\n",
        "print(f'\\nDistributive Property:\\n C*(D+E) =\\n{I}\\n Is the same as\\n (C*D)+(C*E) =\\n{J}')\n",
        "print(f'\\nIdentity Property:\\nif\\n{E}\\nis multiplied to\\n{K}\\nthen\\n{L}')\n",
        "print(f'\\nScalar Property:\\nC*D =\\n{M}')\n",
        "print(f'\\nZero Property:\\nif\\n{C}\\nis multiplied to\\n{N}\\nthen\\n{O}')"
      ],
      "metadata": {
        "id": "NbaooFCB-yzQ",
        "outputId": "95f13f42-b8dc-4c55-85b4-0454e92a44eb",
        "colab": {
          "base_uri": "https://localhost:8080/"
        }
      },
      "execution_count": 33,
      "outputs": [
        {
          "output_type": "stream",
          "name": "stdout",
          "text": [
            "Associative Property:\n",
            " C*(D*E) =\n",
            "[[ 63  64  21]\n",
            " [192 125  48]\n",
            " [189  96  27]]\n",
            " Is the same as\n",
            " (C*D)*E =\n",
            "[[ 63  64  21]\n",
            " [192 125  48]\n",
            " [189  96  27]]\n",
            "\n",
            "Closre Property:\n",
            " np.dot(C,D) =\n",
            "[[ 30  24  18]\n",
            " [ 84  69  54]\n",
            " [138 114  90]]\n",
            "\n",
            "Distributive Property:\n",
            " C*(D+E) =\n",
            "[[16 24 24]\n",
            " [56 50 36]\n",
            " [84 64 36]]\n",
            " Is the same as\n",
            " (C*D)+(C*E) =\n",
            "[[16 24 24]\n",
            " [56 50 36]\n",
            " [84 64 36]]\n",
            "\n",
            "Identity Property:\n",
            "if\n",
            "[[7 4 1]\n",
            " [8 5 2]\n",
            " [9 6 3]]\n",
            "is multiplied to\n",
            "[[1. 0. 0.]\n",
            " [0. 1. 0.]\n",
            " [0. 0. 1.]]\n",
            "then\n",
            "[[1. 2. 3.]\n",
            " [4. 5. 6.]\n",
            " [7. 8. 9.]]\n",
            "\n",
            "Scalar Property:\n",
            "C*D =\n",
            "[[ 9 16 21]\n",
            " [24 25 24]\n",
            " [21 16  9]]\n",
            "\n",
            "Zero Property:\n",
            "if\n",
            "[[1 2 3]\n",
            " [4 5 6]\n",
            " [7 8 9]]\n",
            "is multiplied to\n",
            "[[0. 0. 0.]\n",
            " [0. 0. 0.]\n",
            " [0. 0. 0.]]\n",
            "then\n",
            "[[0. 0. 0.]\n",
            " [0. 0. 0.]\n",
            " [0. 0. 0.]]\n"
          ]
        }
      ]
    }
  ],
  "metadata": {
    "colab": {
      "name": "Welcome To Colaboratory",
      "toc_visible": true,
      "provenance": [],
      "include_colab_link": true
    },
    "kernelspec": {
      "display_name": "Python 3",
      "name": "python3"
    }
  },
  "nbformat": 4,
  "nbformat_minor": 0
}