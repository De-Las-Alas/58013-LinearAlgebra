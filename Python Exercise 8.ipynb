{
  "cells": [
    {
      "cell_type": "markdown",
      "metadata": {
        "id": "view-in-github",
        "colab_type": "text"
      },
      "source": [
        "<a href=\"https://colab.research.google.com/github/De-Las-Alas/58013-LinearAlgebra/blob/main/Python%20Exercise%208.ipynb\" target=\"_parent\"><img src=\"https://colab.research.google.com/assets/colab-badge.svg\" alt=\"Open In Colab\"/></a>"
      ]
    },
    {
      "cell_type": "markdown",
      "source": [
        "#Inverse of a matrix is a reciprocal of the matrix"
      ],
      "metadata": {
        "id": "IDNz_t5P1A20"
      }
    },
    {
      "cell_type": "code",
      "source": [
        "##Python codes to declare a matrix\n",
        "import numpy as np\n",
        "A = np.array ([\n",
        "    [1,2,3],\n",
        "    [4,5,6],\n",
        "    [7,8,9]\n",
        "])\n",
        "\n",
        "print(A)\n",
        "\n",
        "A = np.array ([\n",
        "    [1,2],\n",
        "    [4,7]\n",
        "])\n",
        "\n",
        "B = (np.linalg.inv(A))\n",
        "\n",
        "print(B)"
      ],
      "metadata": {
        "id": "tta-ABSQ0Wht",
        "outputId": "0bb543db-160b-4a05-8a79-f3844f4b4b6a",
        "colab": {
          "base_uri": "https://localhost:8080/"
        }
      },
      "execution_count": 1,
      "outputs": [
        {
          "output_type": "stream",
          "name": "stdout",
          "text": [
            "[[1 2 3]\n",
            " [4 5 6]\n",
            " [7 8 9]]\n",
            "[[-7.  2.]\n",
            " [ 4. -1.]]\n"
          ]
        }
      ]
    },
    {
      "cell_type": "markdown",
      "source": [
        "#Or you can code in this way:"
      ],
      "metadata": {
        "id": "ARjaljSf1FYQ"
      }
    },
    {
      "cell_type": "code",
      "source": [
        "import numpy as np\n",
        "A = np.array([\n",
        "    [1,2],\n",
        "    [4,7]\n",
        "])\n",
        "\n",
        "invA = (np.linalg.inv(A))\n",
        "\n",
        "print(invA)"
      ],
      "metadata": {
        "id": "aWQTGvo30wL6",
        "outputId": "b2dccec8-3e26-4154-f253-086fe9b94893",
        "colab": {
          "base_uri": "https://localhost:8080/"
        }
      },
      "execution_count": 2,
      "outputs": [
        {
          "output_type": "stream",
          "name": "stdout",
          "text": [
            "[[-7.  2.]\n",
            " [ 4. -1.]]\n"
          ]
        }
      ]
    },
    {
      "cell_type": "markdown",
      "source": [
        "#Transpose of a Matrix"
      ],
      "metadata": {
        "id": "yjNYKiH11JU4"
      }
    },
    {
      "cell_type": "code",
      "source": [
        "#Python Program to Transpose a 4x4 Matrix A = ([[6,1,1,3],[4,-2,5,1],[2,8,7,6],[3,1,9,7]])\n",
        "\n",
        "A = np.array([\n",
        "    [6,1,1,3],\n",
        "    [4,-2,5,1],\n",
        "    [2,8,7,6],\n",
        "    [3,1,9,7]\n",
        "])\n",
        "\n",
        "print(A)\n",
        "\n",
        "B=(np.transpose(A))\n",
        "\n",
        "print(B)"
      ],
      "metadata": {
        "id": "filPqVA_1OcD",
        "outputId": "b227ed16-5353-44e8-da3f-5f65e6360e85",
        "colab": {
          "base_uri": "https://localhost:8080/"
        }
      },
      "execution_count": 5,
      "outputs": [
        {
          "output_type": "stream",
          "name": "stdout",
          "text": [
            "[[ 6  1  1  3]\n",
            " [ 4 -2  5  1]\n",
            " [ 2  8  7  6]\n",
            " [ 3  1  9  7]]\n",
            "[[ 6  4  2  3]\n",
            " [ 1 -2  8  1]\n",
            " [ 1  5  7  9]\n",
            " [ 3  1  6  7]]\n"
          ]
        }
      ]
    }
  ],
  "metadata": {
    "colab": {
      "name": "Welcome To Colaboratory",
      "toc_visible": true,
      "provenance": [],
      "include_colab_link": true
    },
    "kernelspec": {
      "display_name": "Python 3",
      "name": "python3"
    }
  },
  "nbformat": 4,
  "nbformat_minor": 0
}