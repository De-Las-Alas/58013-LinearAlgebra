{
  "cells": [
    {
      "cell_type": "markdown",
      "metadata": {
        "id": "view-in-github",
        "colab_type": "text"
      },
      "source": [
        "<a href=\"https://colab.research.google.com/github/De-Las-Alas/58013-LinearAlgebra/blob/main/Python%20Exercise%203.ipynb\" target=\"_parent\"><img src=\"https://colab.research.google.com/assets/colab-badge.svg\" alt=\"Open In Colab\"/></a>"
      ]
    },
    {
      "cell_type": "markdown",
      "source": [
        "#*Vector Addition*\n",
        "We have encountered vector before especially with your last activity. Vector addition is simply the element-wise addition of the scalar values of the vectors. Let's take the following vectors as a sample:\n",
        "\n",
        "![image.png](data:image/png;base64,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)\n",
        "\n",
        "We can programmatically solve this using np.add() or simply using +."
      ],
      "metadata": {
        "id": "9UA1RUzjD1Tm"
      }
    },
    {
      "cell_type": "code",
      "source": [
        "A = np.array([1,2,0])\n",
        "B = np.array([3,1,-2])\n",
        "C = np.array([0,0,1])\n",
        "\n",
        "print(A+B+C)\n",
        "\n",
        "print(np.add(A,np.add(B,C)))\n",
        "\n",
        "print(np.sum(B))"
      ],
      "metadata": {
        "id": "PSC3OI-3EV92",
        "outputId": "5970562e-2d88-40c0-f012-0f0a4113a20a",
        "colab": {
          "base_uri": "https://localhost:8080/"
        }
      },
      "execution_count": 40,
      "outputs": [
        {
          "output_type": "stream",
          "name": "stdout",
          "text": [
            "[ 4  3 -1]\n",
            "[ 4  3 -1]\n",
            "2\n"
          ]
        }
      ]
    },
    {
      "cell_type": "markdown",
      "source": [
        "#*Vector Subtraction*\n",
        "Vector subtraction is similar to your vector addition but you would need to scale the second vector using a negative scalar that is usually -1. So if we subtract vector B from vector A we get:\n",
        "\n",
        "![image.png](data:image/png;base64,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)\n",
        "\n",
        "In Python, this can be achieved by using np.subtract() or –"
      ],
      "metadata": {
        "id": "kaHFvTOgEuAA"
      }
    },
    {
      "cell_type": "code",
      "source": [
        "print(np.subtract(A,B))\n",
        "\n",
        "print(A-B)"
      ],
      "metadata": {
        "id": "8D-2i8LEE5yM",
        "outputId": "230d7d85-c94b-44bf-ab42-1da2eb592cc8",
        "colab": {
          "base_uri": "https://localhost:8080/"
        }
      },
      "execution_count": 42,
      "outputs": [
        {
          "output_type": "stream",
          "name": "stdout",
          "text": [
            "[-2  1  2]\n",
            "[-2  1  2]\n"
          ]
        }
      ]
    },
    {
      "cell_type": "markdown",
      "source": [
        "#*Vector Multiplication*\n",
        "Vector multiplication, like addition does its operations element-wise. So basic vector multiplication can be achieved by multiplying the elements or the scalars of the vectors individually. So:\n",
        "\n",
        "![image.png](data:image/png;base64,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)\n",
        "\n",
        "We can implement this in code by using np.multiply() or simply operating with *."
      ],
      "metadata": {
        "id": "DOFnXwVGFC6r"
      }
    },
    {
      "cell_type": "code",
      "source": [
        "print(np.multiply(A,B))\n",
        "\n",
        "print(A*B)"
      ],
      "metadata": {
        "id": "i1f0XZ5RFQYc",
        "outputId": "6bb14ba9-1480-4d6f-ce8c-30ba29e75eb0",
        "colab": {
          "base_uri": "https://localhost:8080/"
        }
      },
      "execution_count": 43,
      "outputs": [
        {
          "output_type": "stream",
          "name": "stdout",
          "text": [
            "[3 2 0]\n",
            "[3 2 0]\n"
          ]
        }
      ]
    },
    {
      "cell_type": "markdown",
      "source": [
        "#*Vector Division*\n",
        "Dividing a vector by another is uncommon, but if the situation specifies that each elements or scalars of the vector would be divided individually we can perform this by:\n",
        "\n",
        "![image.png](data:image/png;base64,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)\n",
        "\n",
        "Take note that the notation we used here is ./ for element-wise division, this notation is based in a MATLab notation for element-wise division. This can be achieved in Python using np.divide() or /."
      ],
      "metadata": {
        "id": "yKMmqbMDFW87"
      }
    },
    {
      "cell_type": "code",
      "source": [
        "print(np.divide(A,B))\n",
        "\n",
        "print(A/B)\n",
        "\n",
        "C = np.array([3.9,1.8,7.7])\n",
        "D = np.array([1,1,1])\n",
        "print(C//D)\n",
        "\n",
        "print(np.array(A/B,dtype=int))"
      ],
      "metadata": {
        "id": "VtRe0RYUFjSl",
        "outputId": "e252b591-e4a1-4cca-fff0-ae9faef820e1",
        "colab": {
          "base_uri": "https://localhost:8080/"
        }
      },
      "execution_count": 44,
      "outputs": [
        {
          "output_type": "stream",
          "name": "stdout",
          "text": [
            "[ 0.33333333  2.         -0.        ]\n",
            "[ 0.33333333  2.         -0.        ]\n",
            "[3. 1. 7.]\n",
            "[0 2 0]\n"
          ]
        }
      ]
    }
  ],
  "metadata": {
    "colab": {
      "name": "Welcome To Colaboratory",
      "provenance": [],
      "include_colab_link": true
    },
    "kernelspec": {
      "display_name": "Python 3",
      "name": "python3"
    }
  },
  "nbformat": 4,
  "nbformat_minor": 0
}