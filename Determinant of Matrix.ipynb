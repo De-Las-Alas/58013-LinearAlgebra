{
  "cells": [
    {
      "cell_type": "markdown",
      "metadata": {
        "id": "view-in-github",
        "colab_type": "text"
      },
      "source": [
        "<a href=\"https://colab.research.google.com/github/De-Las-Alas/58013-LinearAlgebra/blob/main/Determinant%20of%20Matrix.ipynb\" target=\"_parent\"><img src=\"https://colab.research.google.com/assets/colab-badge.svg\" alt=\"Open In Colab\"/></a>"
      ]
    },
    {
      "cell_type": "markdown",
      "source": [
        "#Example1\n",
        "Evaluate the 2x2 Determinant\n",
        "[4,-3]\n",
        "[2,5]"
      ],
      "metadata": {
        "id": "TSFwDw-_8z4D"
      }
    },
    {
      "cell_type": "code",
      "source": [
        "import numpy as jk\n",
        "\n",
        "A = jk.array([\n",
        "    [4,-3],\n",
        "    [2,5]\n",
        "])\n",
        "print(f'Array A:\\n{A}')\n",
        "\n",
        "B = jk.linalg.det(A)\n",
        "\n",
        "print(f'\\nThe Array A Determinant is: {int(B)}')"
      ],
      "metadata": {
        "id": "zGlVYCDr8pdk",
        "outputId": "39613cfb-195f-43c5-d53c-5bf32786967f",
        "colab": {
          "base_uri": "https://localhost:8080/"
        }
      },
      "execution_count": 17,
      "outputs": [
        {
          "output_type": "stream",
          "name": "stdout",
          "text": [
            "Array A:\n",
            "[[ 4 -3]\n",
            " [ 2  5]]\n",
            "\n",
            "The Array A Determinant is: 25\n"
          ]
        }
      ]
    },
    {
      "cell_type": "markdown",
      "source": [
        "#Example2\n",
        "Evaluate the 3x3 Determinant [2,3,-5][7,1,-2][-3,4,1]"
      ],
      "metadata": {
        "id": "zRYhF0GS9ap1"
      }
    },
    {
      "cell_type": "code",
      "source": [
        "C = jk.array([\n",
        "    [2,3,-5],\n",
        "    [7,1,-2],\n",
        "    [-3,4,1]\n",
        "])\n",
        "print(f'Array C:\\n{C}')\n",
        "\n",
        "D = jk.linalg.det(C)\n",
        "\n",
        "print(f'\\nThe Array C Determinant is: {int(D)}')"
      ],
      "metadata": {
        "id": "86ujMlvY9rDG",
        "outputId": "173e2494-eacf-4840-807e-b0f633417199",
        "colab": {
          "base_uri": "https://localhost:8080/"
        }
      },
      "execution_count": 18,
      "outputs": [
        {
          "output_type": "stream",
          "name": "stdout",
          "text": [
            "Array C:\n",
            "[[ 2  3 -5]\n",
            " [ 7  1 -2]\n",
            " [-3  4  1]]\n",
            "\n",
            "The Array C Determinant is: -140\n"
          ]
        }
      ]
    },
    {
      "cell_type": "markdown",
      "source": [
        "#Example3\n",
        "Evaluate [4,7,8],\n",
        "   [-9,0,0],\n",
        "    [2,3,4]"
      ],
      "metadata": {
        "id": "MTUwGZBB-I3v"
      }
    },
    {
      "cell_type": "code",
      "source": [
        "E = jk.array([\n",
        "    [4,7,8],\n",
        "   [-9,0,0],\n",
        "    [2,3,4]\n",
        "])\n",
        "print(f'Array E:\\n{E}')\n",
        "\n",
        "F = jk.linalg.det(E)\n",
        "\n",
        "print(f'\\nThe Array E Determinant is: {int(F)}')"
      ],
      "metadata": {
        "id": "OPCxY-nR1Vvs",
        "outputId": "761025b0-4dbe-4c13-e622-7e0815e5a8c0",
        "colab": {
          "base_uri": "https://localhost:8080/"
        }
      },
      "execution_count": 22,
      "outputs": [
        {
          "output_type": "stream",
          "name": "stdout",
          "text": [
            "Array E:\n",
            "[[ 4  7  8]\n",
            " [-9  0  0]\n",
            " [ 2  3  4]]\n",
            "\n",
            "The Array E Determinant is: 36\n"
          ]
        }
      ]
    },
    {
      "cell_type": "markdown",
      "source": [
        "#Example4\n",
        "Evaluate [1,2,-1],[4,6,-2],[-1,3,3]"
      ],
      "metadata": {
        "id": "RIQp3Sj_BHTa"
      }
    },
    {
      "cell_type": "code",
      "source": [
        "G = jk.array([\n",
        "    [1,2,-1],\n",
        "    [4,6,-2],\n",
        "   [-1,3,3]\n",
        "])\n",
        "print(f'Array G:\\n{G}')\n",
        "\n",
        "H = jk.linalg.det(G)\n",
        "\n",
        "print(f'\\nThe Array G Determinant is: {int(H)}')"
      ],
      "metadata": {
        "id": "BbTrND2MBGzD",
        "outputId": "22f96330-e0e4-4da5-bd0f-89627875172f",
        "colab": {
          "base_uri": "https://localhost:8080/"
        }
      },
      "execution_count": 23,
      "outputs": [
        {
          "output_type": "stream",
          "name": "stdout",
          "text": [
            "Array G:\n",
            "[[ 1  2 -1]\n",
            " [ 4  6 -2]\n",
            " [-1  3  3]]\n",
            "\n",
            "The Array G Determinant is: -13\n"
          ]
        }
      ]
    }
  ],
  "metadata": {
    "colab": {
      "name": "Welcome To Colaboratory",
      "toc_visible": true,
      "provenance": [],
      "include_colab_link": true
    },
    "kernelspec": {
      "display_name": "Python 3",
      "name": "python3"
    }
  },
  "nbformat": 4,
  "nbformat_minor": 0
}