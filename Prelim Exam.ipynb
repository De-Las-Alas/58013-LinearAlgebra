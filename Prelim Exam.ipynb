{
  "cells": [
    {
      "cell_type": "markdown",
      "metadata": {
        "id": "view-in-github",
        "colab_type": "text"
      },
      "source": [
        "<a href=\"https://colab.research.google.com/github/De-Las-Alas/58013-LinearAlgebra/blob/main/Prelim%20Exam.ipynb\" target=\"_parent\"><img src=\"https://colab.research.google.com/assets/colab-badge.svg\" alt=\"Open In Colab\"/></a>"
      ]
    },
    {
      "cell_type": "markdown",
      "source": [
        "#1. Create a Multiplication Table/Chart of 1 to 10 using numpy/ python program."
      ],
      "metadata": {
        "id": "dmSBcbejtHAw"
      }
    },
    {
      "cell_type": "code",
      "source": [
        "import numpy as ace\n",
        "#imports numpy\n",
        "#add array and elements\n",
        "A = ace.array([\n",
        "    [1,1,2,3,4,5,6,7,8,9,10]\n",
        "])\n",
        "B = ace.array([\n",
        "    [1],\n",
        "    [1],\n",
        "    [2],\n",
        "    [3],\n",
        "    [4],\n",
        "    [5],\n",
        "    [6],\n",
        "    [7],\n",
        "    [8],\n",
        "    [9],\n",
        "    [10]\n",
        "])\n",
        "#calculations\n",
        "C = A*B\n",
        "#execution\n",
        "print(C)"
      ],
      "metadata": {
        "id": "JEKsZcE7tLTO",
        "outputId": "150d73c6-02ae-47e6-d1c0-3abff9667788",
        "colab": {
          "base_uri": "https://localhost:8080/"
        }
      },
      "execution_count": 10,
      "outputs": [
        {
          "output_type": "stream",
          "name": "stdout",
          "text": [
            "[[  1   1   2   3   4   5   6   7   8   9  10]\n",
            " [  1   1   2   3   4   5   6   7   8   9  10]\n",
            " [  2   2   4   6   8  10  12  14  16  18  20]\n",
            " [  3   3   6   9  12  15  18  21  24  27  30]\n",
            " [  4   4   8  12  16  20  24  28  32  36  40]\n",
            " [  5   5  10  15  20  25  30  35  40  45  50]\n",
            " [  6   6  12  18  24  30  36  42  48  54  60]\n",
            " [  7   7  14  21  28  35  42  49  56  63  70]\n",
            " [  8   8  16  24  32  40  48  56  64  72  80]\n",
            " [  9   9  18  27  36  45  54  63  72  81  90]\n",
            " [ 10  10  20  30  40  50  60  70  80  90 100]]\n"
          ]
        }
      ]
    },
    {
      "cell_type": "markdown",
      "source": [
        "#2. In relation to Question 1, show a solution that doubles all the values of each element."
      ],
      "metadata": {
        "id": "UOSVcRchuD9p"
      }
    },
    {
      "cell_type": "code",
      "source": [
        "#referencing and tweaking of calculations from number 1\n",
        "D = C*2\n",
        "#execution\n",
        "print(D)"
      ],
      "metadata": {
        "id": "E77WRgsZuKwU",
        "outputId": "b73b7d48-2b66-4ded-8317-fd11dc948bd7",
        "colab": {
          "base_uri": "https://localhost:8080/"
        }
      },
      "execution_count": 5,
      "outputs": [
        {
          "output_type": "stream",
          "name": "stdout",
          "text": [
            "[[  2   2   4   6   8  10  12  14  16  18  20]\n",
            " [  2   2   4   6   8  10  12  14  16  18  20]\n",
            " [  4   4   8  12  16  20  24  28  32  36  40]\n",
            " [  6   6  12  18  24  30  36  42  48  54  60]\n",
            " [  8   8  16  24  32  40  48  56  64  72  80]\n",
            " [ 10  10  20  30  40  50  60  70  80  90 100]\n",
            " [ 12  12  24  36  48  60  72  84  96 108 120]\n",
            " [ 14  14  28  42  56  70  84  98 112 126 140]\n",
            " [ 16  16  32  48  64  80  96 112 128 144 160]\n",
            " [ 18  18  36  54  72  90 108 126 144 162 180]\n",
            " [ 20  20  40  60  80 100 120 140 160 180 200]]\n"
          ]
        }
      ]
    },
    {
      "cell_type": "markdown",
      "source": [
        "#3. Create a square matrix that has a diagonal 1's."
      ],
      "metadata": {
        "id": "FTnJAmZCue4Z"
      }
    },
    {
      "cell_type": "code",
      "source": [
        "#using identity matrix\n",
        "E = ace.eye(3,3)\n",
        "#execution\n",
        "print(E)"
      ],
      "metadata": {
        "id": "i-RnikQ0ugyU",
        "outputId": "b2d83ebf-9437-4f4d-95bb-2591375b5af6",
        "colab": {
          "base_uri": "https://localhost:8080/"
        }
      },
      "execution_count": 11,
      "outputs": [
        {
          "output_type": "stream",
          "name": "stdout",
          "text": [
            "[[1. 0. 0.]\n",
            " [0. 1. 0.]\n",
            " [0. 0. 1.]]\n"
          ]
        }
      ]
    },
    {
      "cell_type": "markdown",
      "source": [
        "#4. Create a matrix whose elements are: matrix = np.array([[1, 2, 3, 4],[5, 6, 7, 8],[9, 10, 11, 12]]). Type a python program that can view the size, shape, and dimension of the matrix above."
      ],
      "metadata": {
        "id": "ivSgK2Xdu_Ey"
      }
    },
    {
      "cell_type": "code",
      "source": [
        "#implementation of elements and matrices\n",
        "matrix = ace.array([\n",
        "    [1, 2, 3, 4],\n",
        "    [5, 6, 7, 8],\n",
        "    [9, 10, 11, 12]\n",
        "])\n",
        "#other funtions\n",
        "F = matrix.shape\n",
        "G = matrix.size\n",
        "H = matrix.ndim\n",
        "#execution\n",
        "print(f'The matrix,\\n{matrix},\\nhas a {F} shape, a size of {G}, and {H} dimensions.')"
      ],
      "metadata": {
        "id": "i5_as9rovK4F",
        "outputId": "c7b4063a-044d-4716-e5ac-10d3e95b2f30",
        "colab": {
          "base_uri": "https://localhost:8080/"
        }
      },
      "execution_count": 28,
      "outputs": [
        {
          "output_type": "stream",
          "name": "stdout",
          "text": [
            "The matrix,\n",
            "[[ 1  2  3  4]\n",
            " [ 5  6  7  8]\n",
            " [ 9 10 11 12]],\n",
            "has a (3, 4) shape, a size of 12, and 2 dimensions.\n"
          ]
        }
      ]
    },
    {
      "cell_type": "markdown",
      "source": [
        "#5. Create a result array by adding the following two NumPy arrays. Next, modify the result array by calculating the square of each element.\n",
        "![image.png](data:image/png;base64,iVBORw0KGgoAAAANSUhEUgAAAo0AAABbCAIAAACZNygBAAAYb2lDQ1BJQ0MgUHJvZmlsZQAAWIWVWQc8le3fv+6zz7HPsffeZO+9994kHOtYccxQIskqUSFKJZmVSqESkYZSRg9JEsmoFCoqI+9t1P95n+f9vO/nvT6f676+53f9rt+61v07NwBcnb6RkWEIRgDCI2KoDqYG/G7uHvzYaQABBKAD6kDMlxwdqW9nZwXg8rv972VpEOaGy3OZDVn/7v9fC9E/IJoMAOQFYz//aHI4jO8CgEojR1JjAMAYwXSh+JjIDRwMY2YqbCCMkzdw0BY+uoH9tnDFJo+TgyGMmwHA0fr6UoMAoO+E6fxx5CBYDv07uI8Y4U+JgFl/wFiHHOzrDwCXGswjHR6+ewPDFYjD/JEwzoWxmt/fZAb9N/l+f+T7+gb9wVt+bRacESU6Msx3z/8zNP93CQ+L/a1DFK60wVQzhw3/4RgOhe623MC0MJ6N8LOx3Yg1jH9Q/LfiDgCCEBxr5rzFj+AmRxvC8QOsMJbz9zWyhDE3jE0iwmystul+gRQTcxjDqwWRQIkxd9oemxkQbey4LfMUdbeD7W8cSDXU3x572Ze6qXeDvzM21Fl/W/5QcID5b/nfEoOdXGFMAABJiKO42MCYHsbM0aGOlls8SMHEYEOb3zzUWIcN+4VhrBYQYWqwJR/pFUg1cdjmjwyP/u0vMiOYYm6zjYtjgp3MtuKDrCX7btrPDuPGgAh9599yAqLdrH774h9gZLzlO/JZQITztr/I0cgYA4ftsfORYXbb/ChcQJjpBl0QxpzRcY7bY1FaMfDi3JKPsoqMsXPashPlE+JrYbdlDyoOWAFDYAT4QSxc/cBuEAIoz2abZuFfWz0mwBdQQRAIADLblN8jXDd7IuCnI0gEn2AUAKL/jDPY7A0AcTB97Q916ykDAjd74zZHhIIpGIcDSxAG/47dHBXxR5sLeAdTKP/SToZtDYPrRt+/afowxWqbEvtbLj/Db06MMcYIY4YxwUigOFE6KE2UFfzUg6sCSg2l/tva//Cjp9B96LfoAfQY+uUuShr1H7ZYgzFYvsm2x35/9xglCstURhmgtGHpsGQUK4oTyKCUYD36KF1YszJMNdy2e8N3/v/Bzz8e/C3m23x4OTwCz4bXw4v/cyS9JL3yHykbEf17fLZs9fsTVcM/Pf/Ub/i3OPvDreU/OZGZyAbkQ2Q7sgvZgmwC/Mg2ZDOyG3lnA/9ZQ+8219BvbQ6b9oTCcij/0ue7rXMjktFydXLv5Va3+0BMQELMxgYz3B25h0oJCo7h14dvgQB+8wiyrDS/gpyCIgAbd8rWMfXVYfOugFh7/kMjHwRAdR4A/PJ/aOFfAbgC73F+6//QRLzhbYYBoHqKHEuN26KhNh5o+DRggHcUB+AFQkAc9kgBqABNoAeMgQWwBU7AHXjDcQ6G1zMVxINkkAoyQA44Ck6AEnAGnAfV4BK4BppAC2gHD8AT0AsGwCt4/UyCj2AeLIEVCIKwEB1EgjggPkgEkoIUIDVIBzKGrCAHyB3ygYKgCCgWSoYOQDlQAVQCnYNqoKvQTagd6oL6oJfQOPQe+gItI5AIWgQzggchitiBUEPoIywRToidiCBEFCIRkY44gihGlCMuIhoR7YgniAHEGOIjYhEJkDRIVqQAUgaphjRE2iI9kIFIKnIfMhtZiCxHXkbegmf6OXIMOYv8icKgSCh+lAy8hs1QzigyKgq1D5WLKkFVoxpRnajnqHHUPOoXmg7NjZZCa6DN0W7oIHQ8OgNdiK5E30Dfh3fTJHoJg8GwYsQwqvBudMeEYJIwuZjTmHrMXUwfZgKziMViObBSWG2sLdYXG4PNwJ7EXsS2Yfuxk9gfOBocH04BZ4LzwEXg0nCFuFpcK64fN41bwTPiRfAaeFu8P34PPg9fgb+F78FP4lcITAQxgjbBiRBCSCUUEy4T7hNGCF9paGgEadRp7GkoNPtpimmu0DyiGaf5SUuklaQ1pPWijaU9QltFe5f2Je1XOjo6UTo9Og+6GLojdDV09+hG6X7Qk+hl6c3p/elT6EvpG+n76T8z4BlEGPQZvBkSGQoZGhh6GGYZ8YyijIaMvoz7GEsZbzK+YFxkIjHJM9kyhTPlMtUydTHNELFEUaIx0Z+YTjxPvEecICFJQiRDEpl0gFRBuk+aZMYwizGbM4cw5zBfYn7GPM9CZFFicWFJYCllucMyxopkFWU1Zw1jzWO9xjrIuszGw6bPFsCWxXaZrZ/tOzsXux57AHs2ez37APsyBz+HMUcoRz5HE8drThSnJKc9ZzxnGed9zlkuZi5NLjJXNtc1rmFuBLcktwN3Evd57m7uRR5eHlOeSJ6TPPd4ZnlZefV4Q3iP87byvucj8enwUfiO87XxfeBn4dfnD+Mv5u/knxfgFjATiBU4J/BMYEVQTNBZME2wXvC1EEFITShQ6LhQh9C8MJ+wtXCycJ3wsAheRE0kWKRI5KHId1ExUVfRQ6JNojNi7GLmYolidWIj4nTiuuJR4uXif0lgJNQkQiVOS/RKIiSVJYMlSyV7pBBSKlIUqdNSfdJoaXXpCOly6RcytDL6MnEydTLjsqyyVrJpsk2yn3cI7/DYkb/j4Y5fcspyYXIVcq/kifIW8mnyt+S/KEgqkBVKFf5SpFM0UUxRbFZcUJJSClAqUxpSJilbKx9S7lBeU1FVoapcVnmvKqzqo3pK9YUas5qdWq7aI3W0uoF6inqL+k8NFY0YjWsac5oymqGatZozWmJaAVoVWhPagtq+2ue0x3T4dXx0zuqM6Qro+uqW677VE9Lz16vUm9aX0A/Rv6j/2UDOgGpww+C7oYbhXsO7RkgjU6Nso2fGRGNn4xLjURNBkyCTOpN5U2XTJNO7ZmgzS7N8sxfmPOZk8xrzeQtVi70WnZa0lo6WJZZvrSStqFa3rBHWFtbHrEdsRGwibJpsga257THb13ZidlF2t+0x9nb2pfZTDvIOyQ4PHUmOuxxrHZecDJzynF45izvHOne4MLh4udS4fHc1ci1wHXPb4bbX7Yk7pzvFvdkD6+HiUemx6GnsecJz0kvZK8NrcKfYzoSdXd6c3mHed3Yx7PLd1eCD9nH1qfVZ9bX1Lfdd9DP3O+U3TzYkF5E/+uv5H/d/H6AdUBAwHagdWBA4E6QddCzofbBucGHwLMWQUkJZCDELORPyPdQ2tCp0Pcw1rD4cF+4TfjOCGBEa0bmbd3fC7r5IqciMyLEojagTUfNUS2plNBS9M7o5hhl+ee+OFY89GDsepxNXGvcj3iW+IYEpISKhe4/knqw904kmiReSUEnkpI5kgeTU5PG9+nvP7YP2+e3rSBFKSU+Z3G+6vzqVkBqa+jRNLq0g7dsB1wO30nnS96dPHDQ9WJdBn0HNeHFI89CZTFQmJfNZlmLWyaxf2f7Zj3PkcgpzVnPJuY8Pyx8uPrx+JPDIszyVvLKjmKMRRwfzdfOrC5gKEgsmjlkfazzOfzz7+LcTu050FSoVnikiFMUWjRVbFTefFD559ORqSXDJQKlBaf0p7lNZp76f9j/dX6ZXdvkMz5mcM8tnKWeHzpmeaywXLS88jzkfd36qwqXi4QW1CzWVnJU5lWtVEVVj1Q7VnTWqNTW13LV5dYi62Lr3F70u9l4yutR8WebyuXrW+pwr4ErslQ9Xfa4OXrO81tGg1nD5usj1UzdIN7IbocY9jfNNwU1jze7NfTctbnbc0rx147bs7aoWgZbSOyx38loJremt622JbYt3I+/Otge1T3Ts6nh1z+3eX532nc/uW95/9MDkwb2H+g/bHmk/aunS6Lr5WO1x0xOVJ43dyt03nio/vfFM5Vljj2pPc696760+rb7Wft3+9udGzx/8Zf7XkwGbgb5B58GhF14vxob8h2Zehr1cGI4bXnm1fwQ9kv2a8XXhKPdo+RuJN/VjKmN3xo3Gu986vn01QZ74+C763epk+hTdVOE033TNjMJMy3uT970fPD9Mfoz8uDKb8Ynp06nP4p+vz+nNdc+7zU8uUBfWv+R+5fha9U3pW8ei3eLoUvjSyvfsHxw/qn+q/Xy47Lo8vRK/il0tXpNYu/XL8tfIevj6eqQv1XfzVQAJV0RgIABfqgCgcweA1AunCZ5bOd92QcIvHwi4dYFkoY+IdPhG7UFloE0wSMwTbDEuAm9FkKDB0szS9tM10VcxVDLWMzUTO0hPmHtZhljfsM2wf+RY4FzmWuNB8GL5CPx0AkRBohCrMLsImyi7GLc4jwS/JL+UoLSwjKis2A5pOTl5RQUVRQ0lXWVjFXNVczUTdRMNE01DLX1tLR0NXSU9WX1RAx5DZiOC0brxV5Mp05dm3eYtFtWWx6xSrENs3GyN7ZTtxRy4HBmdcM5IF8gV4YZyx3swenJ4Ce+U8ZbYJezD58vpx0Im+RMDSIGsQVzBghTpENVQkzCXcEpE8u6CyIqos9Ti6PyY3NisuOz4IwnFe6oTW5Ne7QX7pFN27T+Z+uqAYPrug+2HMJlCWQrZBjmOuYGHE4/k51UfvZs/XLB4nOmETKFFUWDxgZNlJTdL+0+9O714BnuW45xkudZ52wq/CzGVB6sKq6trbtY+rhu++OHSz3rcFbar4td0G9yvR93IajzdVN/cdrPrVs/t3pYndzpar7aV3k1p39WhcY94b6rz5v3aB6ce5jxK6PJ7bP5Etpu+e/bp/WeneiJ7DfpIfRP9156n/mU/IDKIGnz/onuo/mXBcMwrlxG115yvV0dH37SPXRjPert7wvmd1qQwvMqWpv+auf6+6EPKx7BZ8ify58i5nPkbC3Nf9b6dWyJ9L/4ptfxsNeWXxvr63+ZfATmDKkBbYlgwr7ENuFx8EMGIRpKWgXaVbpp+iGGI8Q3TO+In0lfmJZY11hW2NfZfHGucS1xfued4pnhH+Pr57wvcFKwUyhEOE7ESlRTDi30Q75KokcyWokhbysjI0snO7eiTuy5fpJCsSFayVzZQUVAVUCOqrat/1hjR7NJq1C7XydWN1/PRtzBQMOQ0Qhi9N35mcsU03yza3MlCxZLNcsXqjfU9m1rbfLsk+0AHR0d9J3lnAReSK9Z12e2j+4hHt+cdr/qdZ72P7Trkk+xL9aOQff09ApwC7YNsgi0pliFmoZphsuECESy7aSIRkatRP6g/o9di0XHEeKEEjT1OidFJhckte6dSaPbzpcqkaR+wSfc7GJ9x+FBlZlvWcPb3XObDCkfs8yKOHs6vK3h07N3x9ULOIuViu5OhJQdLz5xqPt1bNnPm1znmconz2hV2F8iVsVWHqovhc667bu4S8bJiveOVqKt51+oaOq+P3PjShGnmuCl5S+O2RYvbncDWmLaUu6ntBzoO3svoPHQ/80H2w9xHh7sOPz785HB37tOcZ1k9h3rT+1L79z6P+ytqYPdg5IuYoaSXB4ePvSofaXj9YPTlm0/j4C1xQvCd/KTOlPm038zZ958+Ks8mfWr9/GtecyHuy+Wv7xbZlyy/p/xo+Dm9wr3qsJb9q3N7/o0R+sgdyM+odvQhjCNWHLuAu4nPIDjQcNOM0p6nC6dXZ0AwtDOmM1kQGYi9pKPMtiwMLE9Zs9lM2CH2Zo4ITiHOIa4cbh3uTzylvGa83/jK+M34PwscF9QQHBHaK8wv3CriLbIqWiymJNYtHiC+KnFMUkqyTcpRako6VUZEZkg2d4fBjm9yVfKeCnQKbYqRSgJK/cppKgoq46p5atpqn9RLNcw1FjXPa9lr/dKu03HXxere0CPrE/XvGkQa8hv2GqUZKxlPm5SY2sLvHbfNoyykLN5Zlll5WLNaP7cpsHWwI9kN2p908HYUdvzgdNU50cXYlcF12K3SPdrDwJPWc9DrzM5gbwXvlV33ffJ9vfwk/JbInf7HAnwDFYNQQYPBtZSUEKdQ6TB02JvwWxHFu+MjXaM0qLzRqOjZmIHY9rj6+LKEvD2pifFJocn+e3fuc0tx2u+Qap9mf8Ah3emge8bOQwGZoVnR2Sk5mbkFh8uO1OQ1Hr2X31cweuzzCVShRJFX8dGT90tWTsme9is7cebx2dVyhfMBFSUXeqpQ1Vo18bX1dR8vSV4Oqa+9MndNpWH/9e5Gjqaw5s5bfLdTWt62WrW1tMt3XOyUun/1ocGj4ccJ3XxPe3sO9zk9Fx0Agx+H3g1/eA3eiIzvmqidQs8kfgSfKubJX3WX1H46rxZvzP/Wf38bBaMCwIlDAGz8n+NQA0DuRQDE9gDABueednQAOKkDhIApgBY7AGSh/ef+gODEkwBIgAdIAjVgBueXYXBOWQTqQReYAGsQO6QMOULR0AmoGXoN53zSCBdEKqIeMYpkQBog45GXkFNwluaFKkW9gjMxH/QF9CeMCiYV8wzLgw3HtuFIOAquHc+Jj8X3ExQJRYRVGjLNU1p12mo6drpcegR9Ev13hliGJcZEJogpm8hKrCCpkXqZQ1iwLBdYjVmn2DLZpdh7OWI4OThbufy5abiv8XjwInkv8XnCGUGfQJ6grRCT0HPhIhFPUQHRKbGL4tESGpKQZJdUvrQnvDrnZft3tMhVyhco7FOkKDkqa6jwqUKqY2ot6sc1QjS1tei1RrRrdGJ0dfVwen36DQbXDZuMbhm3mtwz7TLrMR+0GLWctlqwXrHF2bHaizqoOVo5kZ2TXYpdW91mPEie+l6RO8u9B3wIvvp+SeRm/++BakFJwe0hhFDnsIrwxd1mkWVRc9FaMTmxo/FKCUf3LCS5Jj/Yp53SmmqZNpGelaGdCbL6cq4cPpVXkG92DHn8fmF+cUCJ4SnpMsGzIuVKFTaVUdWltU8ugXrVqzYN7jeCm5Jvnrh97U5/21IHb6fZg5hHZx8/617rkenb+fzIwN0h0jB55NLo7Dj3hNqk3rT8e/oPL2aPfN4x175g9qXzm8JiydLyD/ufF5YXVjXWUn7d3Tw/tuafCM+/BFAFJsAVhIB94DioA51gFPyASJAcZANFQEehBuglAiAk4Cw/DXEV8RbO462Q6cg25ApKG3UA1Y1mRweiGzF4jDemEcuIDcM+wUnj8nCLeC/8A4IsoYgGSRNFM07rTPuYzpCulV6L/g6cxT5itGcchfPUdeJxkizpKXMEnHk2s/qy0bA1swdysHI85NzDJc01zl3EY8uL4+3g289vIIAReCpYKOQrLCu8KtItWiYWJW4swSXxRfKx1HnpFBlPWc0dEnLs8nj5VYU5xQmlF8qPVW6rXlQrUT+kQdX01DLUltRh1FnUHdZr1a83uGrYYNRkfNukzbTT7LF5r8ULyzdW09YLNit2OHtWBzFHdSdrZ3+Xva4lbjfdhz3WvAR3WnjH7Drr0+MHkVX8IwJqAqeCRSkhIVdDl8NNIwp3z0RpUfdGt8Wi4qziixKmEtWTjiRP7zNOqU6lT9tzYBo+T3ozLbIe5pjldh9xyBvLTznGe/xuYWAx/cnmUv/TpLIHZ/eWq5z/cuFqVWyNVh3m4sDlC1eSr3ldV2mkb5q4ef32gTs2bex3xztqOqkPtB5huwaf1Dzd3+PVp/NcZIBp8NGQ88vJV4mvmUevjTmNr05UT7pPM8x0fcictfzMOPdi4ezXkEWV74gfPculq0G/FLfnHwkwgHbzBBAHKvAKcAPh4CA4A26DYXj/C0IWUCxUAQ0iaBBG8M7vQOKQ9sgzyC8oC1QVGo+mot9gnODdboMdwJFxP/GFBHXCJM1JWj3aEboken76LoZ4RknGCaYzRD+SBOk780OWMtYkNk92PQ4pTnYuGm4E9yrPMu8qPxDAwm+gPMKyItqiDmJB4vslTkregPPueVnGHQpyrvL7FCoUe5RWVCRU3dUK1Ps1mbXctSt05vS09Q8bvDFSNM4xGTfTMi+0+GJlZ33JltYuzP6xo6RTjvMHVwu3Wg+8J8XrobforoM+k36G5MoAZKB/0D2KaEhG6Ey4VUR9JEtUAnUsxij2cjx7wr49H5Pc4H2qklKVypF2JB11MDnjS6ZH1tXs9Vynw1VHlo865l8+RjhOOfGgSKo49+RcqeupO2WiZ/Lhs9//fPcFzcqqaqaaxNqpi46XWupFr+RdXWrwvv6gUabpaPP8Lfvbl+8QWgPbWtuJHQH3Gu+jHtg9LH008VjiCaW78ul4D2evfd/B/uvP3w4QBuVeOAxRXx4Zrnl1b2Tg9dTowpvVcegtdgLzDjMJJpenPk2Pzjx93/yh/GPmbMQn689Sc9i5N/PNC1lfPL5KfP3yrWUxbcnoO+Z754+Un5o/F5YvrHisElYb18i/6H5dW3ffmP/oQEWFzesDojUAAD26vv5VFABsAQBr+evrK+Xr62vn4WRjBIC7YVvfkzbvGkYAznJtoL4ri//6lrP1relvecw/W7B5E21qhW+izRa+lcB/AY7q3sSeuAPCAAAAOGVYSWZNTQAqAAAACAABh2kABAAAAAEAAAAaAAAAAAACoAIABAAAAAEAAAKNoAMABAAAAAEAAABbAAAAAIIJoJQAAB1MSURBVHgB7Z1/aFRX2sdPYvyRjN2kYjYwapJGZI2CG0PSdoXZjFtjIwsSdcVFixWJGKXsUnVFwbd/uILiG126iD8wiEqVlVYbCi+miV3jBty2hsQKSbq4ahLNgJuSGuqYJk3H9znn/phzZ+5k7sydzB2330twzj0/n/s54zznec6556QFAgGGCwRAAARAAARAICUJpKekVBAKBEAABEAABECAE4CexvcABEAABEAABFKXAPR06vYNJAMBEAABEAAB6Gl8B0AABEAABEAgdQlk6KIt8fxGDyMAAiAAAiAAAiDgCIGbrX+X24U9LdNAGARAAARAAARSiwD0dGr1B6QBARAAARAAAZkA9LRMA2EQAAEQAAEQSC0C0NOp1R+QBgRAAARAAARkAtDTMg2EQQAEQAAEQCC1CEBPp1Z/QBoQAAEQAAEQkAlAT8s0EAYBEAABEACB1CIAPZ1a/QFpQAAEQAAEQEAmAD0t00AYBEAABEAABFKLAPR0avUHpAEBEAABEAABmQD0tEwDYRAAARAAARBILQLQ06nVH5AGBEAABEAABGQC0NMyDYRBAARAAARAILUIQE+nVn9AGhAAARAAARCQCUBPyzQQBgEQAAEQAIHUIgA9nVr9AWlAAARAAARAQCYAPS3TQBgEQAAEQAAEUosA9HRq9QekAQEQAAEQAAGZAPS0TANhEAABEAABEEgtAtDTqdUfkAYEQAAEQAAEZALQ0zINhJNNoLT2z8f+tDLZraI9EIhIoGT7wbo9qyImIwEEkk8gI/lNokUQUAmsendzMes6+4kMhDT35uJMJeZRy65DH+uJK/e8/+vZyt2zr8/srW/XU168gPQsrP/6H/9y2dYjkGp5a0GWUoX92myJkmKFZTLDXWf/53iHJuCqd495Z6k3j/7xzv/qX8Lbx79cesz75+09UmatED5BwBEC/wV6uuboRY/2H87Xsn7vCUdAotFYCSyuOeydRZo4+NOp1xBZDRs1Ny+w05NZmauXZMw/evLTHxukiNiD6adXT52jFBsYqWoNxF6DViJ/cmOZ+l/s6f3vf3f7uZbwyaE/CsXAtYUWZ+/zWfcHu0/eDqmjumRqbZHqMzMKwDMq6B62DW/pCykXx60Cbaz5yg9HpNKG3rHbNVK/sGBDhibUpgN3PhvZPUQ3t4/vFUzoy7apQJKLsY//8o4YAq75U91SQwJPOpP3582b3l3TYXP8FFIvbkEgTgIvuJ6u2nNmI1lkF9YdaCIA2+rOeS8eZFDVcX4ZklpszbL5Wc++/lvQXLbRuk1tKrcsNCuprir7qotXlX7ns2GhMEjHTPuIyapabnViwvmTa4sCzVdGuOLMnvTRG9NOD2oqWXnM+6NPc6fYb1toyrE79wNzigyV8fis0ZNXlGET17K1npGGOMc9aYffnPry/e+rxFiH1/xm4J4YkB1pHZZHBmJoEnjMlXT8V/vJW8vf//VrtSWXw4Y+8VeKkiAQLwF1rB1vcYfLbVtW7PK1bhZKmkQ5setCp99dvm+5w2Kh+agEFte8Nps9+jLVfNfpp8syEmRfph0uznh6f1QoacIR2NI2Nj0vvToqmQRm6PuhSrduhwL3/WxOgfL/nR6TNV8Z3vIgEY3lT65kI9TQzdDK0vLIFf/suebbCHw9EJojlvvnuz8d1h0SR3rHmCtjSXZ4Bem/LUp/en9M1tzhmSzEfNLUPZxVvHSNhazIAgITTcC+PS27nf2d57fvbxQyc0s3v+f89oFl57xuHuPvuqAoVG71stZ112aSKeziKZKzWtjHIjIYv2Lf8U0LWLBmxW52U6l789xUrWz4NA0MbVhYULqCsfLTGwp7L9zK2aC0zvzdZ7ccusqbo0uWWWpdSUzMv7wJduPCk7INC5Xn8bWu21XP69568FJFdvBx+C3j7noKlA219OZ7F7hIWj3AxVbynB8qV4mx/htv7zilVOVWw0LscFbmT2PGmXJG7JrIvUmlRKN6pymPufy90xsWsjDmOoTCl7JY/xcJMabNnzCu2PxJc8ihKn+h4qrGvNBQ4KkrfS770Tw1qbGBLVdsOPNDRKXRgDmx57u7xxrLpn5Uwr0IZOZW5pI7OnHthoghbqtLJvMeDM4vmGWyFtf+Re/viwvyFjPWYa0AcoHAhBFQxtdxV08/x3Pvrn97nfhr8bkWbjy4LVgZ3Z4rf3KBp97wuRZUv1elpbk9lzZm3+KluAXsrasRCTVH17AP1dpE/Ok9pHGvHmjvZ67CMt1KriH13H9DnYd+MsA93vrV88Svh10LNqitr2/tdxWvVe1srkFzyFUuGjrblU2ucklmvbQUKK35xV/rfhnytzv6KuVZFRty2gSc891+t+foVqlO06Cr2JvTvo4yU6Cg7ywP5Jer0NxePu7htZ3t8s+qEDKfut7pZ7PmKfSoxuXlBS5/V4M6VDJtgkeac1azm3cNJUboza0H17IGBSaX3O05wzk37W/zsaDwNKSYO4sGZMpIhbHSvBns2XcJMee42LlTG1dnir+ph01sLPXJon5Uz0hn/gAr0WvLPJ0ftVCkDM9vPg5ML8rYqaanHX59ynSWnmdDvEgtWYrPTi9ysYe9E6smQyXhBv3It0XTqGtq88ZOXlHmjENzxXG/syCD+cduhjq3E2VMC4k6/jPIMn9WGId0KAICCSZgU0837d8SXLd14q4vRDrdhman7pGuzQmu5NCt2KZbvX6WPZP0MWP1O4Imr4hXq6tv7vK7hJXMI+gX39/dTNZk1CvoEu/T1feKfaVU/EPNVS4GAe5542vQ9vp//WHXVyF/h/UFohHloMfnVi9djd88iZhLTvB3XhM2N/N3XtatfyVD0FchySzUoXuuOs6oKi10+W5pjybXawxH4qzkMu0anmTem6f26vMOrLG9Rx8m8TFEcHS1bZ7b33VdX+L3ykuZRpHiv6Ppyaor6l/zQPqiN2ypauaa8is2qlbYNjanLP7aGm6PNA9kVKoDiCns8Vj8D2m3ZPrpN6ZM94/+n7nha7f2iOVpFny1mFS+8v0dNqV2dfww5SaEac4edoeuFlSM6X8mwpjWm5uRV6KHEQABpwjY9XsbfJ78IQyqWjJ263esVzSQeFL/UI/4pH+uHtiuuaOF31U4ydVE7UefNFPlRU/lVnb11PL3ytz+3ut6kZxcbr1plbHCHBcb+oZSy/Wo8ICreNPFc5uk+H4p/KIE1QcndVi2gabkTxxoUmbrdV04zoNw/7YZZ14kQtdQSoTelCcRRAX8H7poDLH0UsXSbazpRNWecre/51qwmx58N7x0hpItkf8eaR2Zv3pq0StpLO4fa//oB3rZvrE7xdPs1GZY4kRKKy/cBEzk40eoSyyTtrvWOkLd40UrM/Tq0rndn35/+M1pi16fVG1vNb6ygt1sDUHakjyamR61PTNteKTBx7cN97gBAScI2NPTWw+KmeO3VUermEaN+ylI5Xv5rLNqoPMRQND+rr/r83jJwVs1UzIZRWSO7JrkLnHjjLWZOIa5arMMIXHk9940f1pI5KN/fGXBpA4plMBbTWuS46FaTMnnk8naeV4aDEVobFzOEcpEjKaJD88sfdaZ8WnpQj0zOVEqPOSrWJGb7/K1y9749seDm4tfeoWxBL8DnZ32MmPfDj7XRYgp0DAYoLeYpCnktJe1afeY6jHLLJTW4++1RVVmWSYkziklTQ/D6Ul9wScCFuXZesjISpqx/IxFrsCdB3F2vYlYi38+gw339JikIAoEkkzAnp42CFtztIJsNIM9bUiP6aZqz1q+nCpY5sS17vKNpWfWuOgtLN1kFJE0IdqnrVDzkE/7LHf8kpFtfl1t61u7gM9VX43uH9ZqIL93AvVJ75CfudUpAD6yiRnatjrxmJrnX3E2rD3tJ124Q1nEpwnOmLqfRvhrx2qWMM7BorGHVuyrpkVzUqfRhEXpprLja120DNA4gOj57hmbP28VvasaezMRS4g5YDKIZe8uf3GWvwBmaV8UYUD/qmRMMcdNFiUpm2MYtsWIKI2UQO8UTVvERk/qlrqUZhKMSWaT8npU4pU0f9uYFuob9p/RmwsJPP/WzxYVT6ruU9/LopXYbEBf/s1YjI85npJmfBjEBhI2/01PUvpaQdaz3s87Qh4KtyDgAAF7elo4XWmx2KWNJLq/80Z3TkX862QUfeO9SKvB6fK13PB5y3hIvRoP3eJLx30tsn5tPLSZ0cLyDZcubuDZrBjKIUV4saARz+8m+mo89GHZ8U0V52iZN2/6PI0/rEDjy7gEZyrUum6LrPaEOqQl8ZflyIiPEYVzxHKmCYpz23OJFrfT5Wtt8XnkGQelLTK4ZWOa5+yo/2JZ3dJXa0o/tvlqllCBmtVLW3ko79fyJpSLVgORns6av3wVa48+JqCXf0boRefGIqVwcDMNtTY+vGBZs8u3L/7EZHsWNZP2wV9ZprVj/DIRTMtl8hmbzCYVKFFinEHr/2himNVquYTH2ABtellmI/1Hs/YOOp+wYJmz5Y6THpOx9MrVGZWMiVYIJvd1662HQojtMfkaMXqIOYq0yuNozvzqkincmP48gavkSl4vyHzW25bA8bnWA/gEgZgJpAUC6pd7iec3MZdObgH1rSFtzXByG3e0NW52S69yhcki5gj6pBfPwnI4FsFnr5nyFlmIDMKcGgyzzPi+oQW9ZuYv9w2wsPwhtYbfio1IaXfSxGwDKQzKxO3NKfYjC983NEaZ+e6Yhb0m+5GF07AdIzw0MXsUzJuN8THNK7EUy79sBT1m3wGxH5m8byivTwg2GN4vltpCJhCwTeBm69/lOvgQ9YW41FnVn6CSjto9yiqB0PXhUYslIYM6e60ueg9psKN+d0v/bNpImV5RncBr5XLaLTxRDkyxPQt7dO/yBApMVSdU5oSKWlpbPpuxR/+O/rKDhWZT9THVbeexaaiFPkSWpBCw5/dOioja4uTkeqeT8mg2G+FmNM3i04yDvr2MzRoTVlxbBB5cYmZWtbKR8rKVrMP4u581f/P7dZtJH4RZz7O9dXxDbGvzzcpkKkuM8aee6EDbaL+TgL0kDedwyGjiljmr+K1j77/FEnCqhyyOFFamkxmdZmG2JbuU0Uow7se0UrmUx3AOhxTPmOEcDjmlZPurEbadl3MhDAJJJPAi+b2TiAVNgQAIgAAIgIAzBF5Uv7cztNAqCIAACIAACDhK4IWZn3aUEhoHARAAARAAAWcIQE87wx2tggAIgAAIgIAVAtDTVighDwiAAAiAAAg4QwB62hnuaBUEQAAEQAAErBCAnrZCCXlAAARAAARAwBkC0NPOcEerIAACIAACIGCFAPS0FUrIM1EEaIPGY39aOVG1o14QiJkAbY1St4dOiMEFAilD4AXYjyxlWEGQRBNQN2g0bEYmtlbOVFoy7kcm7eFlbT+yRIubqvUZttYK3ao6dqH/mzgb9iMz7PEeEdrt418uPUbb2fYkZkP42PmjBAiEEnih9TQ/7ZgOUgy9xt+rMjQ37h0iQPtQeiNs0BhZDRs1d1DynZ7MylzlmCY9UpzqqN+JQ6t+Z/FkSamUElQOVdSiA3c+Cx6hqDStJYUdsaUlWP3Mn9xYpv2vNDvDSpVETvr4L++Io8DEkRJW2xk/XyTOVEp5Xjr8KkEwVUHEEVvjCzVuqnJsl3aClpb19vG9t3lYnMOhRYrPcaAp29luendNB7b4NjDDjVMEtF8Ep9q31W7T/i101DRdXGEX9l5QTqG2VSUKJ4vAmmX8WOi/RT9rMppAQrE9vD/6NHdKeFa7v/5ajQ23RxrEDz5FcE35xuSdV344IlKPtA4rAbrjOuzNwL1PlROXtcLWP0nZlKXf+Wx49xCV4eOMj0qM6jB70ltF7KmfKcdlWq84YTnzJ1fmBp76bc2XyTC5YLwH07/ljxzfpR7vfWeALcqKr4bQUu0nby1//9ev1ZZcTsBe7qGV4x4EYiVg6/9brI0hPwioBMTBU4++tHn4NFWWfrqMNV8Z3vIgeWgbHow9Zel5ZoeGH+kdY670uXHLMvTj767olnrg6wE2PS+9Olhb2uHXp7D7o/+kQ7CduYh2xsO20fuJbD3tcHEGG/hBDE3iqZcOny56/H3Vpz8+jqd0pDKfNHUPZxUvXRMpHfEgkEQC9u1p7WQkLrR0cFPVnjMb83vObx9Yds7rFmldqr2rHiN9beaZjcXCaS0dhMVLKZFURI0Xp0Ix+UgocYKWVIpXb7h4kZz2dYZDMCWb29CKJLOhDps3yrnLF56UaZ553Rsfcpg0v2Ut6/eeoEDZUEtvvpeOwPJ36wF+qrSS5/xQuQanXznRmce71bCQN5yV+WMYCARJRuyayL1J9WvHdomm1McUUxKsWzoSW3xPdAiFL2Wx/i/sG9MssOWKeoC6+ZNOQOzORVOm+0dvmth/isoZ0c3rxDZOCmmRa6yZXPeexFZstbadnqlzyLHcx5YUWy0SPV9+xiJX4M7n8Xcit86jNxNzjvYven9fXJC3mLGOmMuiAAgkloBNe5p+jufeXf/2OvHX4nMt3HhwW1BAuj1X/uQCT73hcy2ofq9KS3N7Lm3MvsVLXej0u711NSKh5uga9qFam4g/vWcFY1cPtPczV2HZcq1wzTw367+x94R2H/55dWCIZc+kstKVn+NiTwaamFBRT26oMp/tYgs3Hg8KJhUIBktrfvHXul+G/O2Ovkp5VsWGnDbR0Pluv9tzdGuwSvOQq9hLwwvKTIGCvrM8kF+uQnN7+biH13a2yz+rQnA+db3Tz2bNU+hRlcvLC1z+rob9jebVa7HmnNVU866hxAi9ufXgWtagfAG45G7PmX3UU03723wsKDxjW+fOooGXNnIqzZvBnn2XBBt4Tllm42rx9+YkyTDVSMTySe5uparK3LFmo2eb3N0iadoiNnqyNX6VYxQnfX4ue/o4oCmh9N8WpT9sU53txpxJucue9KtcUqjxuvTNZbRrTJvXmpDYjv8MssyfFSakLlQCArYI2NTTNEMc1Jcn7vpCZPFrNjQ7dY90bU6Bnq7bcE23ev2aTq3fQbajmkXEq+H65i6/q6BU1bv0i+/vbj6lVxUh4MoupBTSyhd1Nex/0su2LSt2ScWvHmjo9MuDALPa2uv/9YddX4X8HTasUjYrxujxdyhyNn7zxDRHaKS/81q9iPN3XtZRKJmCdr8YuLjnca0v1KF7rjo2qiotdPluHVDm7EOrlu4jcVaymHYNTzLvzVN7g8sCGtt7/Fo7fAwRBLttntvfdV0fWr3yUqaWb+I+ydQerlL/Rh66ptTaU9Vkt6m1tbHK1Zmn84OS0xS1knTycUbt6qmHzVziwdyWQjTnOnUOG/untvCN27IDI1v6LBWegEyqyz1u77S5SIoxfSdRIxvzRuzEzsgrsVMcZUEgIQTs+r0NPk8ukUFVc/tVvep3rFc0kLj3D/VoCVcPbNd0MxMObS2BPrUffdJMlRc9lVvZ1VPL3ytz+3uv60Wk3FKwd8jP8nOr2IqyfKpE2OIzc9jQXTI0lzE29E1IcVeO9KMrVZPKwZxcbrYyUodlG8r3LT9xoIkPQXytui4cR/hInHmRCF1DKRF6U574EBXwf+iiMcTSSxVLt7GmE1V7yt3+nmv6l4E9+G546QwlW3L+DWxpG6N11Euyf2ww8VfHKEPfD80FGZUF6awvVME03B5dkjet6JU0punXGKtWsouFUeTi1paq0UorbsQn3cOvC89d7uQqsPVQemXBwM4CmpnW5+OD8akTGnx8O3WEgSQ/WQL29PTWg5sW0Mzx26qjVUyjxo2SVL7XrRtzYtYzaH/X3/V5vOTgrZppyWQk+3UjqV7yAw/dujxUvqZ0xUC2S2igQjP5/E/GtVPI771p/rSQgo/+8ZUFkzqkUAJvNa1JjofqhdzZkE8ma+d5aTAUobFxOUcoEzGaJj48s/RZZ2XhvZ6ZnCgVHrL7V+Tmu3ztsje+/fHg5uKXXmGsXc88wYHqGeQ6Cjy2r6S5nGl5WeSRfm4mctrLLvbtoGmSWXaTuDAlTcvISZ8xMuIzKoP5yQnP7LwcFawpeihtSV46I4fEalarZy6a1lgU8iKcnmYtwB3pVEPoWMda4YnPtfjnM9hwT8/EN4QWQCAaAXt62lB7zdEKWjBmsKcN6THdVO1Zy5dTBcucuNZdvrH0zBoX67pgwWTse+L35JSV5gzd299Yz5YdL88dUs3ouz5vBU0V1yse6RX7qhe6fC3j+4rJ751AfcJtfbc6BSAWgsUKbVudhzz/ZzXPv+JsWHvaT7pwR+jMtLpnRcTXYcM4B4nHHhIw5U6jCYvSTWXH17poMGccQPR894zNn7eKsQQsJbMgKH+dKf3p/VFLK7z4u7b8nbEze82Xo4v1XIE7D0yUMfdOs7FmedSn7KfxyOL2IyZKmh5PfvWLbvnbX2ykyuJEeGwCmMJ8vvvTYSmBC0lLrC2+P83f6p7Nwr+BynK8D2RWehsJkFmvK85A6WsFWc96P8cisjj5oVgiCdjT08LpSovFLm0kmfydN7pzKuKfmlP0jffiOS9/QF/LDZ+3jIfUq/HQLb50PJpOVXM3DQxtWLggv/P8IYo4cXeI1kXT/ChPPLV3HaNl0udolbW4gha8cj/h/zYe+rDs+CZVAF/LeRp/WIHGl3EJzsSmdd0WWe0JdUiOjctyZMTniMI5YjnTBMW57bl0USxB9rW2+DzlUkalLTK4ZWOap3fUf7GsbumrNaUfm+tCqY7xg4piU/NMp1Vj9J1R9gBRNr5QU2hnEuWl5PFrE6m0gIj0dNb85atYuzaMUDb3UAvTmucr+nIqgwC86RDvNB+RsKzZ5dsXf3I86o8+n6+lRjJk09mu0RyTABbwxJqFz3GwzNkhfc09+WRM6xiNtcYks7wzDFOMfsNGNMaqLd6VvF6Q+ay3LYHjc4sNIxsIhBNICwRUv9MSz2/Ck1MqRn1rSFsznFKyTaww3OzOlt9MC2mOrxKg9eHBVXgh6Q7eKu+nva2up5MFEWbrYMuuQ5ouVBL5vqEFvWa2LPcNsLD8cpWJCou9S5lhm0kbVQuDsv/6Hyd8cyuxH5mJ4R6jAAnnLJw6Vj0KKugYZY7WPWI/sp6zJluBmkITX4DBJHRZNLmR/hMlcLP17/KT06Tdi3Gps6o/QSUdtX+UVQKh68OjFktCBnX22kRJU+Md9btb+mfTRsr0impqXSuXF2eyRPk8xY4u7NG9y049o9MClNaWz2bs0b+jvx8RJOSszOq28xM+rgo+L0IgMC4Be37vcatOVKK2ODnpDupEPcCE1cPNaJrFl7eXmbC2YqxYWwQeXGJmVoGykfKylazD+COeNX/z+3Wb6cc9zHqe7a075mUs8uSxWTMxxAkzjho2sUpjqEXNqh4C8az7g3cmdPtJw5ESspjxC5AYzspMPxvuOrsrus9/QqAZzuGQ0bBxoL0aYdt5Q3ncgEDyCLxIfu/kUUFLIAACIAACIOAQgRfV7+0QLjQLAiAAAiAAAk4SeGHmp52EhLZBAARAAARAwCEC0NMOgUezIAACIAACIGCBAPS0BUjIAgIgAAIgAAIOEYCedgg8mgUBEAABEAABCwSgpy1AQhYQAAEQAAEQcIgA9LRD4NEsCIAACIAACFggAD1tARKygAAIgAAIgIBDBKCnHQKPZkEABEAABEDAAgHoaQuQkAUEQAAEQAAEHCIAPe0QeDQLAiAAAiAAAhYIQE9bgIQsIAACIAACIOAQAehph8CjWRAAARAAARCwQAB62gIkZAEBEAABEAABhwhATzsEHs2CAAiAAAiAgAUC0NMWICELCIAACIAACDhEAHraIfBoFgRAAARAAAQsEICetgAJWUAABEAABEDAIQLQ0w6BR7MgAAIgAAIgYIEA9LQFSMgCAiAAAiAAAg4RSAsEAg41jWZBAARAAARAAASiEIA9HQUQkkEABEAABEDAQQLQ0w7CR9MgAAIgAAIgEIUA9HQUQEgGARAAARAAAQcJQE87CB9NgwAIgAAIgEAUAtDTUQAhGQRAAARAAAQcJPD/ugwQPFqP99YAAAAASUVORK5CYII=)"
      ],
      "metadata": {
        "id": "pfFfldJsxN2m"
      }
    },
    {
      "cell_type": "code",
      "source": [
        "#elements & matrices\n",
        "arrayOne = ace.array([\n",
        "    [5,6,9],\n",
        "    [21,18,17]\n",
        "])\n",
        "arrayTwo = ace.array([\n",
        "    [15,33,24],\n",
        "    [4,7,1]\n",
        "])\n",
        "#calculation\n",
        "I = ace.add(arrayOne, arrayTwo)\n",
        "J = ace.square(I)\n",
        "#execution\n",
        "print(f'sum:\\n{I}\\nsquare of sum:\\n{J}')"
      ],
      "metadata": {
        "id": "m9rBX7KQxSTa",
        "outputId": "17bee0d9-d162-45cf-c3a7-e80b55ca4dfb",
        "colab": {
          "base_uri": "https://localhost:8080/"
        }
      },
      "execution_count": 24,
      "outputs": [
        {
          "output_type": "stream",
          "name": "stdout",
          "text": [
            "sum:\n",
            "[[20 39 33]\n",
            " [25 25 18]]\n",
            "square of sum:\n",
            "[[ 400 1521 1089]\n",
            " [ 625  625  324]]\n"
          ]
        }
      ]
    }
  ],
  "metadata": {
    "colab": {
      "name": "Welcome To Colaboratory",
      "toc_visible": true,
      "provenance": [],
      "include_colab_link": true
    },
    "kernelspec": {
      "display_name": "Python 3",
      "name": "python3"
    }
  },
  "nbformat": 4,
  "nbformat_minor": 0
}