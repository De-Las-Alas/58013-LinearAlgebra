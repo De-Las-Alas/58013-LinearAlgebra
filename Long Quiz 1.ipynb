{
  "cells": [
    {
      "cell_type": "markdown",
      "metadata": {
        "id": "view-in-github",
        "colab_type": "text"
      },
      "source": [
        "<a href=\"https://colab.research.google.com/github/De-Las-Alas/58013-LinearAlgebra/blob/main/Long%20Quiz%201.ipynb\" target=\"_parent\"><img src=\"https://colab.research.google.com/assets/colab-badge.svg\" alt=\"Open In Colab\"/></a>"
      ]
    },
    {
      "cell_type": "markdown",
      "source": [
        "#1. Consider the four matrices, (20 points each)\n",
        "![image.png](data:image/png;base64,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)\n",
        "\n",
        "a. AB\n",
        "\n",
        "b. D + D\n",
        "\n",
        "c. 2C"
      ],
      "metadata": {
        "id": "rdZgo5b0wwNF"
      }
    },
    {
      "cell_type": "code",
      "source": [
        "import numpy as eh\n",
        "\n",
        "A = eh.array([\n",
        "     1,2,3,\n",
        "     4,5,6\n",
        "])\n",
        "B = eh.array([\n",
        "     [1],[2],\n",
        "     [3],[4],\n",
        "     [5],[6]\n",
        "])\n",
        "C = eh.array([\n",
        "     [1,2,3],\n",
        "     [4,5,6],\n",
        "     [7,8,9]\n",
        "])\n",
        "D = eh.array([\n",
        "     [1,2],\n",
        "     [3,4]\n",
        "])\n",
        "\n",
        "a=A*B\n",
        "b=D+D\n",
        "c=[2]*C\n",
        "\n",
        "print(f'Vector A*B is:\\n{a}')\n",
        "print(f\"Vector D+D is:\\n{b}\")\n",
        "print(f\"Vector C*2 is:\\n{c}\")"
      ],
      "metadata": {
        "id": "ohYNxBWrw4O0",
        "outputId": "b74cf683-8705-4dec-8580-2eb83fe4d81f",
        "colab": {
          "base_uri": "https://localhost:8080/"
        }
      },
      "execution_count": null,
      "outputs": [
        {
          "output_type": "stream",
          "name": "stdout",
          "text": [
            "Vector A*B is:\n",
            "[[ 1  2  3  4  5  6]\n",
            " [ 2  4  6  8 10 12]\n",
            " [ 3  6  9 12 15 18]\n",
            " [ 4  8 12 16 20 24]\n",
            " [ 5 10 15 20 25 30]\n",
            " [ 6 12 18 24 30 36]]\n",
            "Vector D+D is:\n",
            "[[2 4]\n",
            " [6 8]]\n",
            "Vector C*2 is:\n",
            "[[ 2  4  6]\n",
            " [ 8 10 12]\n",
            " [14 16 18]]\n"
          ]
        }
      ]
    },
    {
      "cell_type": "markdown",
      "source": [
        "#2. Find the cross-product of matrices, A = [2,7,4] and B = [3,9,8]. Show your solutions using Python program . (40 points)"
      ],
      "metadata": {
        "id": "4Suq8rZV0bHm"
      }
    },
    {
      "cell_type": "code",
      "source": [
        "import numpy as jk\n",
        "\n",
        "A = jk.array([\n",
        "    2,7,4\n",
        "])\n",
        "B = jk.array([\n",
        "    3,9,8\n",
        "])\n",
        "\n",
        "c = jk.cross(A,B)\n",
        "\n",
        "print(c)"
      ],
      "metadata": {
        "id": "ld8VVocF0mjU",
        "outputId": "772364a8-9222-4d31-c183-fc06055b7c6e",
        "colab": {
          "base_uri": "https://localhost:8080/"
        }
      },
      "execution_count": 2,
      "outputs": [
        {
          "output_type": "stream",
          "name": "stdout",
          "text": [
            "[20 -4 -3]\n"
          ]
        }
      ]
    }
  ],
  "metadata": {
    "colab": {
      "name": "Welcome To Colaboratory",
      "toc_visible": true,
      "provenance": [],
      "include_colab_link": true
    },
    "kernelspec": {
      "display_name": "Python 3",
      "name": "python3"
    }
  },
  "nbformat": 4,
  "nbformat_minor": 0
}