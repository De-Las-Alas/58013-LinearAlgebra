{
  "cells": [
    {
      "cell_type": "markdown",
      "metadata": {
        "id": "view-in-github",
        "colab_type": "text"
      },
      "source": [
        "<a href=\"https://colab.research.google.com/github/De-Las-Alas/58013-LinearAlgebra/blob/main/Rview%20of%20Python.ipynb\" target=\"_parent\"><img src=\"https://colab.research.google.com/assets/colab-badge.svg\" alt=\"Open In Colab\"/></a>"
      ]
    },
    {
      "cell_type": "markdown",
      "source": [
        "#Python Indentation\n",
        "\n",
        "\n",
        "*   Indentation refers to the spaces at the beginning of a code line.\n",
        "\n",
        "Example:\n",
        "\n"
      ],
      "metadata": {
        "id": "fhimgwlcge9I"
      }
    },
    {
      "cell_type": "code",
      "source": [
        "if 5>2:\n",
        "  print(\"Five is greater than Two.\")"
      ],
      "metadata": {
        "id": "wtrnwOBfgf08",
        "outputId": "8f0b82f7-7d35-47e3-fec4-dc836e36162f",
        "colab": {
          "base_uri": "https://localhost:8080/"
        }
      },
      "execution_count": 2,
      "outputs": [
        {
          "output_type": "stream",
          "name": "stdout",
          "text": [
            "Five is greater than Two.\n"
          ]
        }
      ]
    },
    {
      "cell_type": "markdown",
      "source": [
        "#Python Comments\n",
        "\n",
        "\n",
        "*   Comments can be used to explain Python code and make the code more readable.\n",
        "*   Comments start with #.\n",
        "\n",
        "Example:"
      ],
      "metadata": {
        "id": "cHIehesmiC3v"
      }
    },
    {
      "cell_type": "code",
      "source": [
        "#This is a comment\n",
        "print(\"Hello world.\")"
      ],
      "metadata": {
        "id": "ozmR-4vviLdn",
        "outputId": "b48236e2-6c1b-4081-b593-b54443e5d594",
        "colab": {
          "base_uri": "https://localhost:8080/"
        }
      },
      "execution_count": 3,
      "outputs": [
        {
          "output_type": "stream",
          "name": "stdout",
          "text": [
            "Hello world.\n"
          ]
        }
      ]
    },
    {
      "cell_type": "markdown",
      "source": [
        "#Python Variable\n",
        "\n",
        "\n",
        "*   Variables are containers for storing data values\n",
        "\n",
        "Example:"
      ],
      "metadata": {
        "id": "lQ3p3_28i48k"
      }
    },
    {
      "cell_type": "code",
      "source": [
        "x = 1\n",
        "a, b = 0, -1\n",
        "a, b, c = 0, -1, 2"
      ],
      "metadata": {
        "id": "umYZaRg3jCBG"
      },
      "execution_count": null,
      "outputs": []
    },
    {
      "cell_type": "markdown",
      "source": [
        "Others:"
      ],
      "metadata": {
        "id": "60CFoFHyjlv9"
      }
    },
    {
      "cell_type": "code",
      "source": [
        "b = \"Sally\" #this is a type of string"
      ],
      "metadata": {
        "id": "7aQwNPX-jnCk"
      },
      "execution_count": null,
      "outputs": []
    },
    {
      "cell_type": "markdown",
      "source": [
        "#Casting"
      ],
      "metadata": {
        "id": "sx4Bxwlzjw8G"
      }
    },
    {
      "cell_type": "code",
      "source": [
        "b = \"Sally\" #this is a type of string\n",
        "b = int(4)\n",
        "print(b)\n",
        "\n",
        "b = float(4)\n",
        "print(b)"
      ],
      "metadata": {
        "id": "DXs9MwwTjyRh",
        "outputId": "3909b39c-372b-4a4e-fe78-6384a7945221",
        "colab": {
          "base_uri": "https://localhost:8080/"
        }
      },
      "execution_count": 4,
      "outputs": [
        {
          "output_type": "stream",
          "name": "stdout",
          "text": [
            "4\n",
            "4.0\n"
          ]
        }
      ]
    },
    {
      "cell_type": "markdown",
      "source": [
        "#Type() function\n",
        "\n",
        "Example:"
      ],
      "metadata": {
        "id": "FomU1-pekGwi"
      }
    },
    {
      "cell_type": "code",
      "source": [
        "x = 5\n",
        "y = \"John\"\n",
        "print(type(x))\n",
        "print(type(y))"
      ],
      "metadata": {
        "id": "K2OKNKtekLSL",
        "outputId": "a5df9e7e-7052-46c6-b797-4143703cca24",
        "colab": {
          "base_uri": "https://localhost:8080/"
        }
      },
      "execution_count": 5,
      "outputs": [
        {
          "output_type": "stream",
          "name": "stdout",
          "text": [
            "<class 'int'>\n",
            "<class 'str'>\n"
          ]
        }
      ]
    },
    {
      "cell_type": "markdown",
      "source": [
        "#\"Double Quotes\" or 'Single Quotes'\n",
        "\n",
        "\n",
        "*   String variables can be declared either by using single or double quotes.\n",
        "\n",
        "Example:"
      ],
      "metadata": {
        "id": "NKVSoSC5kps9"
      }
    },
    {
      "cell_type": "code",
      "source": [
        "y = \"John\"\n",
        "y = 'John'"
      ],
      "metadata": {
        "id": "9rQ8JFQVk4Sb"
      },
      "execution_count": null,
      "outputs": []
    },
    {
      "cell_type": "markdown",
      "source": [
        "#Case Sensitive\n",
        "\n",
        "Example:"
      ],
      "metadata": {
        "id": "wA1sJUs-lKOL"
      }
    },
    {
      "cell_type": "code",
      "source": [
        "a = 4\n",
        "A = \"Sally\"\n",
        "#A will not overwrite a"
      ],
      "metadata": {
        "id": "Qa_EYzx2lNnG"
      },
      "execution_count": null,
      "outputs": []
    },
    {
      "cell_type": "markdown",
      "source": [
        "#Multiple Variables\n",
        "\n",
        "Example:"
      ],
      "metadata": {
        "id": "3fSXn-OnlapV"
      }
    },
    {
      "cell_type": "code",
      "source": [
        "x, y, z = \"one\", \"two\", \"three\"\n",
        "print(x)\n",
        "print(y)\n",
        "print(z)"
      ],
      "metadata": {
        "id": "VoF51LcnldSh",
        "outputId": "28b6c17b-0ad2-4fa9-85a9-9a5fc0655138",
        "colab": {
          "base_uri": "https://localhost:8080/"
        }
      },
      "execution_count": 7,
      "outputs": [
        {
          "output_type": "stream",
          "name": "stdout",
          "text": [
            "one\n",
            "two\n",
            "three\n"
          ]
        }
      ]
    },
    {
      "cell_type": "markdown",
      "source": [
        "#One Value to Multiple Variables\n",
        "\n",
        "Example:"
      ],
      "metadata": {
        "id": "GVq0Fsf4lamM"
      }
    },
    {
      "cell_type": "code",
      "source": [
        "x = y = z =\"four\"\n",
        "print(x)\n",
        "print(y)\n",
        "print(z)"
      ],
      "metadata": {
        "id": "nnZTnOFXl1Tl",
        "outputId": "83d3c9f7-4867-4f1d-9ed9-0a607cc29d93",
        "colab": {
          "base_uri": "https://localhost:8080/"
        }
      },
      "execution_count": 8,
      "outputs": [
        {
          "output_type": "stream",
          "name": "stdout",
          "text": [
            "four\n",
            "four\n",
            "four\n"
          ]
        }
      ]
    },
    {
      "cell_type": "markdown",
      "source": [
        "#Output Variables\n",
        "\n",
        "\n",
        "*   The python print is used to output variables and + is used to combine both text and variable.\n",
        "\n",
        "Example:"
      ],
      "metadata": {
        "id": "-azoj_r_l9Wz"
      }
    },
    {
      "cell_type": "code",
      "source": [
        "x = \"enjoying\"\n",
        "print(\"Python programming is \" + x)"
      ],
      "metadata": {
        "id": "1crK585emda3",
        "outputId": "146930ad-681a-4a5e-fa0c-f37b5d68d906",
        "colab": {
          "base_uri": "https://localhost:8080/"
        }
      },
      "execution_count": 9,
      "outputs": [
        {
          "output_type": "stream",
          "name": "stdout",
          "text": [
            "Python programming is enjoying\n"
          ]
        }
      ]
    },
    {
      "cell_type": "markdown",
      "source": [
        "Other:"
      ],
      "metadata": {
        "id": "_UMQ72Qim4Lh"
      }
    },
    {
      "cell_type": "code",
      "source": [
        "x = \"Python is \"\n",
        "y = \"enjoying\"\n",
        "z = x + y\n",
        "print(z)"
      ],
      "metadata": {
        "id": "t2xx1VzQm5zK",
        "outputId": "258b78df-5df5-47a8-e59d-452b2e53ef0a",
        "colab": {
          "base_uri": "https://localhost:8080/"
        }
      },
      "execution_count": 11,
      "outputs": [
        {
          "output_type": "stream",
          "name": "stdout",
          "text": [
            "Python is enjoying\n"
          ]
        }
      ]
    },
    {
      "cell_type": "markdown",
      "source": [
        "#Arithemtic Operations\n",
        "\n",
        "Example:"
      ],
      "metadata": {
        "id": "nsM3Vkk5nUnd"
      }
    },
    {
      "cell_type": "code",
      "source": [
        "x = 5\n",
        "y = 3\n",
        "print(x+y)\n",
        "\n",
        "x = 5\n",
        "y = 3\n",
        "sum = x+y\n",
        "print(sum)"
      ],
      "metadata": {
        "id": "ElZI9tSEn0sS",
        "outputId": "69ec7ded-6e94-4b72-a021-28a416e02bd7",
        "colab": {
          "base_uri": "https://localhost:8080/"
        }
      },
      "execution_count": 12,
      "outputs": [
        {
          "output_type": "stream",
          "name": "stdout",
          "text": [
            "8\n",
            "8\n"
          ]
        }
      ]
    },
    {
      "cell_type": "markdown",
      "source": [
        "#Assignment Operators\n",
        "\n",
        "Example:"
      ],
      "metadata": {
        "id": "LEGxTQSyoqS_"
      }
    },
    {
      "cell_type": "code",
      "source": [
        "a, b, c, = 0, -1, 6\n",
        "c %= 3\n",
        "print(c)"
      ],
      "metadata": {
        "id": "GLVVisXAolVh",
        "outputId": "9c9a4a67-aa78-449c-9df4-f287802640e5",
        "colab": {
          "base_uri": "https://localhost:8080/"
        }
      },
      "execution_count": 15,
      "outputs": [
        {
          "output_type": "stream",
          "name": "stdout",
          "text": [
            "0\n"
          ]
        }
      ]
    },
    {
      "cell_type": "markdown",
      "source": [
        "#Comparison & Logical Operators\n",
        "\n",
        "Example:"
      ],
      "metadata": {
        "id": "W85ppkiOpLcA"
      }
    },
    {
      "cell_type": "code",
      "source": [
        "a, b, c = a, -1, 6\n",
        "a>b and c>b"
      ],
      "metadata": {
        "id": "dSaJRDOKpRNv",
        "outputId": "1d43e48c-05fe-4e36-e8bc-56c4139ee651",
        "colab": {
          "base_uri": "https://localhost:8080/"
        }
      },
      "execution_count": 16,
      "outputs": [
        {
          "output_type": "execute_result",
          "data": {
            "text/plain": [
              "True"
            ]
          },
          "metadata": {},
          "execution_count": 16
        }
      ]
    },
    {
      "cell_type": "markdown",
      "source": [
        "#Identity Operators\n",
        "\n",
        "Example:"
      ],
      "metadata": {
        "id": "mVQ6m2zZpx8r"
      }
    },
    {
      "cell_type": "code",
      "source": [
        "a, b, c = 0, -1, 5\n",
        "a is c"
      ],
      "metadata": {
        "id": "nYtNIdiSqMMZ",
        "outputId": "eba7d620-bb86-4219-9d6d-ee4e7fbbd67c",
        "colab": {
          "base_uri": "https://localhost:8080/"
        }
      },
      "execution_count": 20,
      "outputs": [
        {
          "output_type": "execute_result",
          "data": {
            "text/plain": [
              "False"
            ]
          },
          "metadata": {},
          "execution_count": 20
        }
      ]
    },
    {
      "cell_type": "markdown",
      "source": [
        "#Bitwise Operators\n",
        "\n",
        "Example:"
      ],
      "metadata": {
        "id": "4DbMcsxhqlEW"
      }
    },
    {
      "cell_type": "code",
      "source": [
        "a, b, c = 0, -1, 5\n",
        "c >> 1"
      ],
      "metadata": {
        "id": "69XVwCzbqV-x",
        "outputId": "a1adcd9a-7cc8-4f0b-dfc4-d6be2c926564",
        "colab": {
          "base_uri": "https://localhost:8080/"
        }
      },
      "execution_count": 28,
      "outputs": [
        {
          "output_type": "execute_result",
          "data": {
            "text/plain": [
              "2"
            ]
          },
          "metadata": {},
          "execution_count": 28
        }
      ]
    },
    {
      "cell_type": "code",
      "source": [
        "a, b, c = 0, -1, 5\n",
        "c << 1"
      ],
      "metadata": {
        "id": "wS8BdH1xsyK-",
        "outputId": "534a425c-43ae-482f-c167-9eb25faa4fd1",
        "colab": {
          "base_uri": "https://localhost:8080/"
        }
      },
      "execution_count": 29,
      "outputs": [
        {
          "output_type": "execute_result",
          "data": {
            "text/plain": [
              "10"
            ]
          },
          "metadata": {},
          "execution_count": 29
        }
      ]
    }
  ],
  "metadata": {
    "colab": {
      "name": "Welcome To Colaboratory",
      "toc_visible": true,
      "provenance": [],
      "include_colab_link": true
    },
    "kernelspec": {
      "display_name": "Python 3",
      "name": "python3"
    }
  },
  "nbformat": 4,
  "nbformat_minor": 0
}