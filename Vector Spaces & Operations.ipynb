{
  "cells": [
    {
      "cell_type": "markdown",
      "metadata": {
        "id": "view-in-github",
        "colab_type": "text"
      },
      "source": [
        "<a href=\"https://colab.research.google.com/github/De-Las-Alas/58013-LinearAlgebra/blob/main/Vector%20Spaces%20%26%20Operations.ipynb\" target=\"_parent\"><img src=\"https://colab.research.google.com/assets/colab-badge.svg\" alt=\"Open In Colab\"/></a>"
      ]
    },
    {
      "cell_type": "markdown",
      "source": [
        "#Let's Try This Code"
      ],
      "metadata": {
        "id": "GEd-jVugg5Na"
      }
    },
    {
      "cell_type": "code",
      "source": [
        "import numpy as np\n",
        "\n",
        "A = np.array([4,3])\n",
        "B = np.array([2,-5])\n",
        "\n",
        "print(\"Vector A is,\", A)\n",
        "print(\"Vector B is,\", B)"
      ],
      "metadata": {
        "id": "aCOmBcUXg9Dr",
        "outputId": "4cf745dd-5b22-4aac-f30f-c760aa4212da",
        "colab": {
          "base_uri": "https://localhost:8080/"
        }
      },
      "execution_count": 3,
      "outputs": [
        {
          "output_type": "stream",
          "name": "stdout",
          "text": [
            "Vector A is, [4 3]\n",
            "Vector B is, [ 2 -5]\n"
          ]
        }
      ]
    },
    {
      "cell_type": "markdown",
      "source": [
        "#Matrix\n",
        "Let’s try this code:"
      ],
      "metadata": {
        "id": "_xWJaaAaiC8F"
      }
    },
    {
      "cell_type": "code",
      "source": [
        "### Checking shapes\n",
        "### Shapes tells us how many rows and columns are there\n",
        "import numpy as np\n",
        "\n",
        "ball1 = np.array([1, 2, 3])\n",
        "ball2 = np.array([0, 1, -1])\n",
        "\n",
        "b1 = np.shape(ball1)\n",
        "b2 = np.shape(ball2)\n",
        "\n",
        "pool = np.shape([ball1,ball2])\n",
        "\n",
        "z = b1 + b2\n",
        "\n",
        "#Shape of the Matrix\n",
        "print(\"Shape of Ball 1 is,\", b1, \", and the Shape of Ball 2 is,\", b2, \".\")\n",
        "print(\"Ball 1 Matrix:\", ball1)\n",
        "print(\"Ball 2 Matrix:\", ball2)\n",
        "print(\"The number of rows and columns respectively are:\", pool)\n",
        "print(z)"
      ],
      "metadata": {
        "id": "zN1u0xfMiEEU",
        "outputId": "ac9656dc-6159-4995-a90e-33b10f157f62",
        "colab": {
          "base_uri": "https://localhost:8080/"
        }
      },
      "execution_count": 39,
      "outputs": [
        {
          "output_type": "stream",
          "name": "stdout",
          "text": [
            "Shape of Ball 1 is, (3,) , and the Shape of Ball 2 is, (3,) .\n",
            "Ball 1 Matrix: [1 2 3]\n",
            "Ball 2 Matrix: [ 0  1 -1]\n",
            "The number of rows and columns respectively are: (2, 3)\n",
            "(3, 3)\n"
          ]
        }
      ]
    },
    {
      "cell_type": "markdown",
      "source": [
        "#Column Vector"
      ],
      "metadata": {
        "id": "dSEieq0MuH11"
      }
    },
    {
      "cell_type": "code",
      "source": [
        "import numpy as np\n",
        "\n",
        "ball1 = np.array([[1], [2], [3]])\n",
        "ball2 = np.array([[0], [1], [-1]])\n",
        "\n",
        "print(ball1,\"\\n\")\n",
        "\n",
        "print(ball2)"
      ],
      "metadata": {
        "id": "zgpCtIvUm74u",
        "outputId": "060527ca-be6a-4085-ed23-35a8f1c6f8bd",
        "colab": {
          "base_uri": "https://localhost:8080/"
        }
      },
      "execution_count": 49,
      "outputs": [
        {
          "output_type": "stream",
          "name": "stdout",
          "text": [
            "[[1]\n",
            " [2]\n",
            " [3]] \n",
            "\n",
            "[[ 0]\n",
            " [ 1]\n",
            " [-1]]\n"
          ]
        }
      ]
    },
    {
      "cell_type": "markdown",
      "source": [
        "#Row Vector"
      ],
      "metadata": {
        "id": "4LeeS-69ufEv"
      }
    },
    {
      "cell_type": "code",
      "source": [
        "import numpy as np\n",
        "\n",
        "ball1 = np.array([1, 2, 3])\n",
        "ball2 = np.array([0, 1, -1])\n",
        "\n",
        "print(ball1,\"\\n\")\n",
        "\n",
        "print(ball2)"
      ],
      "metadata": {
        "id": "U_JqH8YqugyY",
        "outputId": "32d42e6e-de8d-416b-febd-dd04943786b9",
        "colab": {
          "base_uri": "https://localhost:8080/"
        }
      },
      "execution_count": 50,
      "outputs": [
        {
          "output_type": "stream",
          "name": "stdout",
          "text": [
            "[1 2 3] \n",
            "\n",
            "[ 0  1 -1]\n"
          ]
        }
      ]
    },
    {
      "cell_type": "markdown",
      "source": [
        "#Addition\n",
        "Example:"
      ],
      "metadata": {
        "id": "5dvH_AgCscgd"
      }
    },
    {
      "cell_type": "code",
      "source": [
        "import numpy as np\n",
        "\n",
        "A = np.array([[4], [3]])\n",
        "B = np.array([[2], [-5]])\n",
        "\n",
        "R1 = np.add(A,B)\n",
        "\n",
        "C = np.array([4, 3])\n",
        "D = np.array([2, -5])\n",
        "\n",
        "R2 = np.add(C,D)\n",
        "\n",
        "print(\"Column form:\\n\", R1)\n",
        "print(\"\\nRow form:\\n\", R2)"
      ],
      "metadata": {
        "id": "pvm0QGjEsgFw",
        "outputId": "70a7f1b5-a84c-4e3c-e397-23c04d2cfe7c",
        "colab": {
          "base_uri": "https://localhost:8080/"
        }
      },
      "execution_count": 46,
      "outputs": [
        {
          "output_type": "stream",
          "name": "stdout",
          "text": [
            "Column form:\n",
            " [[ 6]\n",
            " [-2]]\n",
            "\n",
            "Row form:\n",
            " [ 6 -2]\n"
          ]
        }
      ]
    },
    {
      "cell_type": "markdown",
      "source": [
        "#Subtraction\n",
        "Example:"
      ],
      "metadata": {
        "id": "Mn9zpABwtzzP"
      }
    },
    {
      "cell_type": "code",
      "source": [
        "import numpy as np\n",
        "\n",
        "A = np.array([[4], [3]])\n",
        "B = np.array([[2], [-5]])\n",
        "\n",
        "R1 = np.subtract(A,B)\n",
        "\n",
        "C = np.array([4, 3])\n",
        "D = np.array([2, -5])\n",
        "\n",
        "R2 = np.subtract(C,D)\n",
        "\n",
        "print(\"Column form:\\n\", R1)\n",
        "print(\"\\nRow form:\\n\", R2)"
      ],
      "metadata": {
        "id": "yk_j4Wx6t303",
        "outputId": "bb31251d-2fd1-40be-8993-7260853bac78",
        "colab": {
          "base_uri": "https://localhost:8080/"
        }
      },
      "execution_count": 47,
      "outputs": [
        {
          "output_type": "stream",
          "name": "stdout",
          "text": [
            "Column form:\n",
            " [[2]\n",
            " [8]]\n",
            "\n",
            "Row form:\n",
            " [2 8]\n"
          ]
        }
      ]
    },
    {
      "cell_type": "markdown",
      "source": [
        "#Scalar\n",
        "Let’s try this code:"
      ],
      "metadata": {
        "id": "Eb7tftqDizJN"
      }
    },
    {
      "cell_type": "code",
      "source": [
        "A = np.array([4, 3])\n",
        "B = np.array([[2], [-5]])\n",
        "C = np.array([1, 5, 8, 9])\n",
        "S = [2]\n",
        "\n",
        "T = A*B\n",
        "U = 5*C\n",
        "V = S*A\n",
        "\n",
        "print(\"T:\",T, \"\\n\")\n",
        "print(\"U:\", U, \"\\n\")\n",
        "print(\"V:\",V)"
      ],
      "metadata": {
        "id": "7WamEhGHi57l",
        "outputId": "22da4986-9532-47f2-8bda-56e39d39b0f8",
        "colab": {
          "base_uri": "https://localhost:8080/"
        }
      },
      "execution_count": 98,
      "outputs": [
        {
          "output_type": "stream",
          "name": "stdout",
          "text": [
            "T: [[  8   6]\n",
            " [-20 -15]] \n",
            "\n",
            "U: [ 5 25 40 45] \n",
            "\n",
            "V: [8 6]\n"
          ]
        }
      ]
    },
    {
      "cell_type": "markdown",
      "source": [
        "#Vector Multiplication\n",
        "Let’s code this:"
      ],
      "metadata": {
        "id": "r2mg_LXYjSkJ"
      }
    },
    {
      "cell_type": "code",
      "source": [
        "import numpy as np\n",
        "#initialize arrays\n",
        "#all rows\n",
        "A = np.array([2, 3])\n",
        "B = np.array([1, 7])\n",
        "#different dimensions\n",
        "C = np.array([4, 3])\n",
        "D = np.array([[2], [-5]])\n",
        "#all columns\n",
        "E = np.array([[4], [2]])\n",
        "F = np.array([[2], [-7]])\n",
        "#compute cross product\n",
        "output1 = np.cross(A, B)\n",
        "#compute dot product\n",
        "output2 = np.dot(A, B)\n",
        "output3 = np.dot(C, D)\n",
        "V1 = A*B\n",
        "V2 = C*D\n",
        "V3 = E*F\n",
        "\n",
        "print(\"npCross Row A & Row B:\", output1, \"\\n\")\n",
        "print(\"npDot Row A & Row B:\", output2, \"\\n\")\n",
        "print(\"Dot Product A & B:\", V1, \"\\n\")\n",
        "print(\"npDot Rom C & Column D:\", output3, \"\\n\")\n",
        "print(\"Dot Product C & D:\", V2, \"\\n\")\n",
        "print(\"Dot Product E & F:\", V3)"
      ],
      "metadata": {
        "id": "y6O-0bAIjTr8",
        "outputId": "1b238fe9-22ad-404d-8c5f-c5c8614ab7f8",
        "colab": {
          "base_uri": "https://localhost:8080/"
        }
      },
      "execution_count": 96,
      "outputs": [
        {
          "output_type": "stream",
          "name": "stdout",
          "text": [
            "npCross Row A & Row B: 11 \n",
            "\n",
            "npDot Row A & Row B: 23 \n",
            "\n",
            "Dot Product A & B: [ 2 21] \n",
            "\n",
            "npDot Rom C & Column D: [-7] \n",
            "\n",
            "Dot Product C & D: [[  8   6]\n",
            " [-20 -15]] \n",
            "\n",
            "Dot Product E & F: [[  8]\n",
            " [-14]]\n"
          ]
        }
      ]
    },
    {
      "cell_type": "markdown",
      "source": [
        "#Identity Matirx"
      ],
      "metadata": {
        "id": "eZAA9byP0oum"
      }
    },
    {
      "cell_type": "code",
      "source": [
        "import numpy as np\n",
        "\n",
        "A = np.eye(2, 2)\n",
        "B = np.eye(3, 3)\n",
        "C = np.eye(3, 2)\n",
        "D = np.eye(3, 4)\n",
        "\n",
        "print(A, \"\\n\")\n",
        "print(B, \"\\n\")\n",
        "print(C, \"\\n\")\n",
        "print(D)"
      ],
      "metadata": {
        "id": "zUubrmG5y5o1",
        "outputId": "6b430076-b2bf-4eda-dd4d-299c1ee61460",
        "colab": {
          "base_uri": "https://localhost:8080/"
        }
      },
      "execution_count": 97,
      "outputs": [
        {
          "output_type": "stream",
          "name": "stdout",
          "text": [
            "[[1. 0.]\n",
            " [0. 1.]] \n",
            "\n",
            "[[1. 0. 0.]\n",
            " [0. 1. 0.]\n",
            " [0. 0. 1.]] \n",
            "\n",
            "[[1. 0.]\n",
            " [0. 1.]\n",
            " [0. 0.]] \n",
            "\n",
            "[[1. 0. 0. 0.]\n",
            " [0. 1. 0. 0.]\n",
            " [0. 0. 1. 0.]]\n"
          ]
        }
      ]
    },
    {
      "cell_type": "markdown",
      "source": [
        "#Zero Matrix"
      ],
      "metadata": {
        "id": "I81Znngw1aH9"
      }
    },
    {
      "cell_type": "code",
      "source": [
        "import numpy as np\n",
        "A = np.zeros((6, 6))\n",
        "\n",
        "print(A)"
      ],
      "metadata": {
        "id": "16RSR-Xn1EpP",
        "outputId": "9564a34c-e470-4ce9-a0b1-92df51188ac3",
        "colab": {
          "base_uri": "https://localhost:8080/"
        }
      },
      "execution_count": 90,
      "outputs": [
        {
          "output_type": "stream",
          "name": "stdout",
          "text": [
            "[[0. 0. 0. 0. 0. 0.]\n",
            " [0. 0. 0. 0. 0. 0.]\n",
            " [0. 0. 0. 0. 0. 0.]\n",
            " [0. 0. 0. 0. 0. 0.]\n",
            " [0. 0. 0. 0. 0. 0.]\n",
            " [0. 0. 0. 0. 0. 0.]]\n"
          ]
        }
      ]
    },
    {
      "cell_type": "markdown",
      "source": [
        "#Full Matrix"
      ],
      "metadata": {
        "id": "14RQsheI2AMc"
      }
    },
    {
      "cell_type": "code",
      "source": [
        "import numpy as np\n",
        "A = np.full((4, 4), 7)\n",
        "B = np.full((5, 5), 6)\n",
        "\n",
        "print(A, \"\\n\")\n",
        "print(B)"
      ],
      "metadata": {
        "id": "-T_BrEdm2FDz",
        "outputId": "949e0443-e6c2-4265-8a80-cf0225fae418",
        "colab": {
          "base_uri": "https://localhost:8080/"
        }
      },
      "execution_count": 89,
      "outputs": [
        {
          "output_type": "stream",
          "name": "stdout",
          "text": [
            "[[7 7 7 7]\n",
            " [7 7 7 7]\n",
            " [7 7 7 7]\n",
            " [7 7 7 7]] \n",
            "\n",
            "[[6 6 6 6 6]\n",
            " [6 6 6 6 6]\n",
            " [6 6 6 6 6]\n",
            " [6 6 6 6 6]\n",
            " [6 6 6 6 6]]\n"
          ]
        }
      ]
    },
    {
      "cell_type": "markdown",
      "source": [
        "#Transpose Matrix"
      ],
      "metadata": {
        "id": "m_N2x9n22ig2"
      }
    },
    {
      "cell_type": "code",
      "source": [
        "import numpy as np\n",
        "A = np.array([2,2])\n",
        "B = np.array([[5],[4]])\n",
        "print(A, \"\\n\")\n",
        "print(B, \"\\n\")\n",
        "\n",
        "C = A*B\n",
        "print(C, \"\\n\")\n",
        "\n",
        "f = np.transpose(C)\n",
        "print(f)"
      ],
      "metadata": {
        "id": "pEV6yCce2kss",
        "outputId": "3e50af90-7545-45ae-fb15-d1c5f5bd0699",
        "colab": {
          "base_uri": "https://localhost:8080/"
        }
      },
      "execution_count": 95,
      "outputs": [
        {
          "output_type": "stream",
          "name": "stdout",
          "text": [
            "[2 2] \n",
            "\n",
            "[[5]\n",
            " [4]] \n",
            "\n",
            "[[10 10]\n",
            " [ 8  8]] \n",
            "\n",
            "[[10  8]\n",
            " [10  8]]\n"
          ]
        }
      ]
    }
  ],
  "metadata": {
    "colab": {
      "name": "Welcome To Colaboratory",
      "toc_visible": true,
      "provenance": [],
      "include_colab_link": true
    },
    "kernelspec": {
      "display_name": "Python 3",
      "name": "python3"
    }
  },
  "nbformat": 4,
  "nbformat_minor": 0
}