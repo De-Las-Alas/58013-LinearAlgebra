{
  "cells": [
    {
      "cell_type": "markdown",
      "metadata": {
        "id": "view-in-github",
        "colab_type": "text"
      },
      "source": [
        "<a href=\"https://colab.research.google.com/github/De-Las-Alas/58013-LinearAlgebra/blob/main/Python%20Exercise%205.ipynb\" target=\"_parent\"><img src=\"https://colab.research.google.com/assets/colab-badge.svg\" alt=\"Open In Colab\"/></a>"
      ]
    },
    {
      "cell_type": "markdown",
      "source": [
        "#ScalingScaling or scalar multiplication takes a scalar value and performs multiplication with avector. Let's take the example below:\n",
        "\n",
        "#S = 5•A"
      ],
      "metadata": {
        "id": "kNr_0qWT9u_S"
      }
    },
    {
      "cell_type": "markdown",
      "source": [
        "#We can do this in numpy through:"
      ],
      "metadata": {
        "id": "q_5JKNam-AKy"
      }
    },
    {
      "cell_type": "code",
      "source": [
        "A = np.array([1,5,8,9])\n",
        "\n",
        "S = 5*A\n",
        "print(S)\n",
        "\n",
        "S = np.multiply(5,A)\n",
        "print(S)"
      ],
      "metadata": {
        "id": "yajDkMWP-FmK",
        "outputId": "7ec29246-b06e-4f91-e025-ba04fc8cb288",
        "colab": {
          "base_uri": "https://localhost:8080/"
        }
      },
      "execution_count": 17,
      "outputs": [
        {
          "output_type": "stream",
          "name": "stdout",
          "text": [
            "[ 5 25 40 45]\n",
            "[ 5 25 40 45]\n"
          ]
        }
      ]
    },
    {
      "cell_type": "markdown",
      "source": [
        "#Dot Product - Python provides a very efficient method to calculate the dot product of two vectors. Byusing numpy.dot() method, which is available in the Numpy module."
      ],
      "metadata": {
        "id": "W_9F0qDp-cmf"
      }
    },
    {
      "cell_type": "code",
      "source": [
        "import numpy as n\n",
        "a = [5, 10, 2]\n",
        "b = [2, 4, 3]\n",
        "dotproduct = n.dot(a,b)\n",
        "\n",
        "print('Dot product is:', dotproduct)"
      ],
      "metadata": {
        "id": "li_5P9nH-cR-",
        "outputId": "74042c54-5498-4138-f413-263d6b9fa043",
        "colab": {
          "base_uri": "https://localhost:8080/"
        }
      },
      "execution_count": 18,
      "outputs": [
        {
          "output_type": "stream",
          "name": "stdout",
          "text": [
            "Dot product is: 56\n"
          ]
        }
      ]
    },
    {
      "cell_type": "markdown",
      "source": [
        "#Cross Product - To find the cross product of two vectors, we will use numpy cross() function."
      ],
      "metadata": {
        "id": "fn46E21U-x3v"
      }
    },
    {
      "cell_type": "code",
      "source": [
        "import numpy as np\n",
        "p = [4, 2]\n",
        "q = [5, 6]\n",
        "product = np.cross(p,q)\n",
        "\n",
        "print(product)"
      ],
      "metadata": {
        "id": "m1q1tnh_-3bi",
        "outputId": "7df57a41-eaec-4b8d-a122-093d667792c5",
        "colab": {
          "base_uri": "https://localhost:8080/"
        }
      },
      "execution_count": 19,
      "outputs": [
        {
          "output_type": "stream",
          "name": "stdout",
          "text": [
            "14\n"
          ]
        }
      ]
    }
  ],
  "metadata": {
    "colab": {
      "name": "Welcome To Colaboratory",
      "toc_visible": true,
      "provenance": [],
      "include_colab_link": true
    },
    "kernelspec": {
      "display_name": "Python 3",
      "name": "python3"
    }
  },
  "nbformat": 4,
  "nbformat_minor": 0
}