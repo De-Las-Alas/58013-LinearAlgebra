{
  "cells": [
    {
      "cell_type": "markdown",
      "metadata": {
        "id": "view-in-github",
        "colab_type": "text"
      },
      "source": [
        "<a href=\"https://colab.research.google.com/github/De-Las-Alas/58013-LinearAlgebra/blob/main/Python%20Exercise%2010.ipynb\" target=\"_parent\"><img src=\"https://colab.research.google.com/assets/colab-badge.svg\" alt=\"Open In Colab\"/></a>"
      ]
    },
    {
      "cell_type": "code",
      "source": [
        "#import numpy\n",
        "import numpy as np\n",
        "\n",
        "#Purchases\n",
        "P = np.array([\n",
        "    [30,10,120],\n",
        "    [40,20,200],\n",
        "    [50,40,360]\n",
        "])\n",
        "#Cost\n",
        "C = np.array([\n",
        "    [12500],\n",
        "    [18000],\n",
        "    [25700]\n",
        "])\n",
        "\n",
        "#Using Cramer's Rule:\n",
        "P1 = np.array([\n",
        "    [12500,10,120],\n",
        "    [18000,20,200],\n",
        "    [25700,40,360]\n",
        "])\n",
        "P2 = np.array([\n",
        "  [30,12500,120],\n",
        "  [40,18000,200],\n",
        "  [50,25700,360]\n",
        "])\n",
        "P3 = np.array([\n",
        "  [30,10,12500],\n",
        "  [40,20,18000],\n",
        "  [50,40,25700]\n",
        "])\n",
        "\n",
        "#Calculations:\n",
        "DP = round(np.linalg.det(P))\n",
        "DP1 = round(np.linalg.det(P1))\n",
        "DP2 = round(np.linalg.det(P2))\n",
        "DP3 = round(np.linalg.det(P3))\n",
        "Flr = float(DP1/DP) #flour\n",
        "Yst = float(DP2/DP) #yeast\n",
        "Egg = float(DP3/DP) #egg\n",
        "\n",
        "print(f\"The determinants are as follows:\\nP:{DP}\\nP1:{DP1}\\nP2:{DP2}\\nP3:{DP3}\")\n",
        "print(f\"\\nCalculated prices are as follows:\")\n",
        "print(f\"Price of flour per sack is {Flr} pesos.\")\n",
        "print(f\"Price of yeast per pack is {Yst} pesos.\")\n",
        "print(f\"Price of one piece of egg is {Egg} pesos.\")"
      ],
      "metadata": {
        "id": "Z0sSBc78pT_2",
        "outputId": "fa56450e-e08c-4954-cad6-424ed32a8499",
        "colab": {
          "base_uri": "https://localhost:8080/"
        }
      },
      "execution_count": 10,
      "outputs": [
        {
          "output_type": "stream",
          "name": "stdout",
          "text": [
            "The determinants are as follows:\n",
            "P:4000\n",
            "P1:1320000\n",
            "P2:560000\n",
            "P3:40000\n",
            "\n",
            "Calculated prices are as follows:\n",
            "Price of flour per sack is 330.0 pesos.\n",
            "Price of yeast per pack is 140.0 pesos.\n",
            "Price of one piece of egg is 10.0 pesos.\n"
          ]
        }
      ]
    }
  ],
  "metadata": {
    "colab": {
      "name": "Welcome To Colaboratory",
      "toc_visible": true,
      "provenance": [],
      "include_colab_link": true
    },
    "kernelspec": {
      "display_name": "Python 3",
      "name": "python3"
    }
  },
  "nbformat": 4,
  "nbformat_minor": 0
}