{
  "cells": [
    {
      "cell_type": "markdown",
      "metadata": {
        "id": "view-in-github",
        "colab_type": "text"
      },
      "source": [
        "<a href=\"https://colab.research.google.com/github/De-Las-Alas/58013-LinearAlgebra/blob/main/Python%20Exercise%204.ipynb\" target=\"_parent\"><img src=\"https://colab.research.google.com/assets/colab-badge.svg\" alt=\"Open In Colab\"/></a>"
      ]
    },
    {
      "cell_type": "markdown",
      "source": [
        "#Code the following vector operation and solve them using the given vector values.\n",
        "\n",
        "#A = ([[-0.4],[4.3],[-0.6]])\n",
        "#B = ([-0.2,0.2,1])\n",
        "#C = ([-0.2,2.1,-1.5])\n",
        "\n",
        "#Create a program flowchart for your algorithm and explain it in your methodology. In yourresults, compare your answer to the expected output, visualize, and explain the resulting vectorusing a 3D plot."
      ],
      "metadata": {
        "id": "NsRIGHlEZY_s"
      }
    },
    {
      "cell_type": "code",
      "source": [
        "#Importing arrays\n",
        "import numpy as np\n",
        "\n",
        "#Array matrices\n",
        "A = np.array([\n",
        "    [-0.4],\n",
        "    [4.3],\n",
        "    [-0.6]\n",
        "])\n",
        "B = np.array([-0.2,0.2,1])\n",
        "C = np.array([-0.2,2.1,-1.5])\n",
        "\n",
        "#Operations\n",
        "\n",
        "#Addition\n",
        "sum = A+B+C\n",
        "print(f\"The sum of the three arrays are:\\n{sum}\")\n",
        "\n",
        "#Subtraction\n",
        "diff = A-B-C\n",
        "print(f\"The difference of the three three arrays are:\\n{diff}\")\n",
        "\n",
        "#Multiplication\n",
        "prod = A*B*C\n",
        "print(f\"The product of the three arrays are:\\n{prod}\")\n",
        "\n",
        "#Division\n",
        "quot = A/B/C\n",
        "print(f\"The quotient of the three arrays are:\\n{quot}\")"
      ],
      "metadata": {
        "id": "A3-qwX51aFNq",
        "outputId": "46f3d90d-cf92-434b-ddda-54355ccfbb1a",
        "colab": {
          "base_uri": "https://localhost:8080/"
        }
      },
      "execution_count": 12,
      "outputs": [
        {
          "output_type": "stream",
          "name": "stdout",
          "text": [
            "The sum of the three arrays are:\n",
            "[[-0.8  1.9 -0.9]\n",
            " [ 3.9  6.6  3.8]\n",
            " [-1.   1.7 -1.1]]\n",
            "The difference of the three three arrays are:\n",
            "[[ 0.  -2.7  0.1]\n",
            " [ 4.7  2.   4.8]\n",
            " [-0.2 -2.9 -0.1]]\n",
            "The product of the three arrays are:\n",
            "[[-0.016 -0.168  0.6  ]\n",
            " [ 0.172  1.806 -6.45 ]\n",
            " [-0.024 -0.252  0.9  ]]\n",
            "The quotient of the three arrays are:\n",
            "[[-10.          -0.95238095   0.26666667]\n",
            " [107.5         10.23809524  -2.86666667]\n",
            " [-15.          -1.42857143   0.4       ]]\n"
          ]
        }
      ]
    }
  ],
  "metadata": {
    "colab": {
      "name": "Welcome To Colaboratory",
      "toc_visible": true,
      "provenance": [],
      "include_colab_link": true
    },
    "kernelspec": {
      "display_name": "Python 3",
      "name": "python3"
    }
  },
  "nbformat": 4,
  "nbformat_minor": 0
}