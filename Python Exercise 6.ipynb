{
  "cells": [
    {
      "cell_type": "markdown",
      "metadata": {
        "id": "view-in-github",
        "colab_type": "text"
      },
      "source": [
        "<a href=\"https://colab.research.google.com/github/De-Las-Alas/58013-LinearAlgebra/blob/main/Python%20Exercise%206.ipynb\" target=\"_parent\"><img src=\"https://colab.research.google.com/assets/colab-badge.svg\" alt=\"Open In Colab\"/></a>"
      ]
    },
    {
      "cell_type": "markdown",
      "source": [
        "#Accessing a multidimensional list:"
      ],
      "metadata": {
        "id": "3fEygzGM7nXu"
      }
    },
    {
      "cell_type": "code",
      "source": [
        "# Python program to demonstrate printing\n",
        "# of complete multidimensional list\n",
        "a = [[2, 4, 6, 8, 10], [3, 6, 9, 12, 15], [4, 8, 12, 16, 20]]\n",
        "print(a)"
      ],
      "metadata": {
        "id": "iOlfaB4v7oTb",
        "outputId": "cad682fa-118a-4865-b1c8-fd279e8dfd4a",
        "colab": {
          "base_uri": "https://localhost:8080/"
        }
      },
      "execution_count": 12,
      "outputs": [
        {
          "output_type": "stream",
          "name": "stdout",
          "text": [
            "[[2, 4, 6, 8, 10], [3, 6, 9, 12, 15], [4, 8, 12, 16, 20]]\n"
          ]
        }
      ]
    },
    {
      "cell_type": "markdown",
      "source": [
        "#Accessing with the help of loop."
      ],
      "metadata": {
        "id": "lziA8-8P8D-b"
      }
    },
    {
      "cell_type": "code",
      "source": [
        "# Python program to demonstrate printing\n",
        "# of complete multidimensional list row\n",
        "# by row.\n",
        "a = [[2, 4, 6, 8, 10], [3, 6, 9, 12, 15], [4, 8, 12, 16, 20]]\n",
        "for record in a:\n",
        "  print(record)"
      ],
      "metadata": {
        "id": "E_sS8Ctr8IC5",
        "outputId": "8d70ab26-52cd-4dbc-c0ce-735ab6f04f4d",
        "colab": {
          "base_uri": "https://localhost:8080/"
        }
      },
      "execution_count": 13,
      "outputs": [
        {
          "output_type": "stream",
          "name": "stdout",
          "text": [
            "[2, 4, 6, 8, 10]\n",
            "[3, 6, 9, 12, 15]\n",
            "[4, 8, 12, 16, 20]\n"
          ]
        }
      ]
    },
    {
      "cell_type": "markdown",
      "source": [
        "#Accessing using square brackets"
      ],
      "metadata": {
        "id": "dj7gS-HX8TPU"
      }
    },
    {
      "cell_type": "code",
      "source": [
        "# Python program to demonstrate that we# can access multidimensional list using\n",
        "# square brackets\n",
        "a = [ [2, 4, 6, 8 ],\n",
        "      [ 1, 3, 5, 7 ],\n",
        "      [ 8, 6, 4, 2 ],\n",
        "      [ 7, 5, 3, 1 ] ]\n",
        "for i in range(len(a)) :\n",
        "  for j in range(len(a[i])) :\n",
        "    print(a[i][j], end=\" \")\n",
        "  print()"
      ],
      "metadata": {
        "id": "lU_QInjU8W0F",
        "outputId": "b4da6c22-0c79-43f0-b7b0-4242caf8b8eb",
        "colab": {
          "base_uri": "https://localhost:8080/"
        }
      },
      "execution_count": 16,
      "outputs": [
        {
          "output_type": "stream",
          "name": "stdout",
          "text": [
            "2 4 6 8 \n",
            "1 3 5 7 \n",
            "8 6 4 2 \n",
            "7 5 3 1 \n"
          ]
        }
      ]
    }
  ],
  "metadata": {
    "colab": {
      "name": "Welcome To Colaboratory",
      "toc_visible": true,
      "provenance": [],
      "include_colab_link": true
    },
    "kernelspec": {
      "display_name": "Python 3",
      "name": "python3"
    }
  },
  "nbformat": 4,
  "nbformat_minor": 0
}